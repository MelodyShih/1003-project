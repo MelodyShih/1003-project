{
 "cells": [
  {
   "cell_type": "code",
   "execution_count": 1,
   "metadata": {
    "collapsed": true
   },
   "outputs": [],
   "source": [
    "import random\n",
    "import pandas as pd\n",
    "import json\n",
    "import numpy as np\n",
    "import scipy.sparse as sp\n",
    "import time\n",
    "from collections import defaultdict\n",
    "\n",
    "import matplotlib.pyplot as plt\n",
    "%matplotlib inline\n",
    "\n",
    "from matplotlib import rc\n",
    "rc('figure', figsize=(16, 8), max_open_warning=False)\n",
    "\n",
    "from surprise import SVD\n",
    "from surprise import Dataset, Reader\n",
    "from surprise import accuracy\n",
    "from surprise.model_selection import train_test_split\n",
    "\n",
    "import sys\n",
    "sys.path.insert(0, '../src')\n",
    "\n",
    "import preprocess\n",
    "import evaluation\n",
    "import utils"
   ]
  },
  {
   "cell_type": "code",
   "execution_count": 2,
   "metadata": {
    "collapsed": true
   },
   "outputs": [],
   "source": [
    "def create_surprise_paper_paper_data_from_tsv(datafilename,datadir=\"../dblp-ref/4fold\"):\n",
    "    itemList, userList, ratingList = [], [], []\n",
    "\n",
    "    df = pd.read_table(datadir+\"/\"+datafilename,\n",
    "                       usecols=[0, 1, 2],\n",
    "                       names=['userID', 'itemID', 'rating'],\n",
    "                       na_filter=False)\n",
    "    reader = Reader(rating_scale=(0,1))\n",
    "\n",
    "    data = Dataset.load_from_df(df[['userID', 'itemID', 'rating']], reader)\n",
    "\n",
    "    return data"
   ]
  },
  {
   "cell_type": "code",
   "execution_count": 3,
   "metadata": {
    "collapsed": true
   },
   "outputs": [],
   "source": [
    "train1 = create_surprise_paper_paper_data_from_tsv(\"4fold_0_train.tsv\").build_full_trainset()\n",
    "temp   = create_surprise_paper_paper_data_from_tsv(\"4fold_0_val.tsv\"  ).build_full_trainset()\n",
    "test1  = temp.build_testset()\n",
    "trainest1 = train1.build_testset()\n",
    "\n",
    "# train2 = create_surprise_paper_paper_data_from_tsv(\"4fold_1_train.tsv\").build_full_trainset()\n",
    "# temp   = create_surprise_paper_paper_data_from_tsv(\"4fold_1_val.tsv\"  ).build_full_trainset()\n",
    "# test2  = temp.build_testset()\n",
    "# trainest2 = train2.build_testset()\n",
    "\n",
    "# train3 = create_surprise_paper_paper_data_from_tsv(\"4fold_2_train.tsv\").build_full_trainset()\n",
    "# temp   = create_surprise_paper_paper_data_from_tsv(\"4fold_2_val.tsv\"  ).build_full_trainset()\n",
    "# test3  = temp.build_testset()\n",
    "# trainest3 = train3.build_testset()\n",
    "\n",
    "# train4 = create_surprise_paper_paper_data_from_tsv(\"4fold_3_train.tsv\").build_full_trainset()\n",
    "# temp   = create_surprise_paper_paper_data_from_tsv(\"4fold_3_val.tsv\"  ).build_full_trainset()\n",
    "# test4  = temp.build_testset()\n",
    "# trainest4 = train4.build_testset()"
   ]
  },
  {
   "cell_type": "code",
   "execution_count": 4,
   "metadata": {},
   "outputs": [
    {
     "name": "stdout",
     "output_type": "stream",
     "text": [
      "337160\n",
      "47018\n"
     ]
    }
   ],
   "source": [
    "print(len(train1.all_items()))\n",
    "print(len(train1.all_users()))"
   ]
  },
  {
   "cell_type": "code",
   "execution_count": 5,
   "metadata": {
    "collapsed": true
   },
   "outputs": [],
   "source": [
    "temp   = create_surprise_paper_paper_data_from_tsv(\"4fold_test.tsv\"  ).build_full_trainset()\n",
    "testset  = temp.build_testset()"
   ]
  },
  {
   "cell_type": "code",
   "execution_count": 6,
   "metadata": {
    "collapsed": true
   },
   "outputs": [],
   "source": [
    "def create_test_dict(test):\n",
    "    result = dict()\n",
    "\n",
    "    for uid, iid, _ in test:\n",
    "        try:\n",
    "            result[uid].append(iid)\n",
    "        except KeyError:\n",
    "            result[uid] = []\n",
    "            result[uid].append(iid)\n",
    "    return result"
   ]
  },
  {
   "cell_type": "code",
   "execution_count": null,
   "metadata": {
    "collapsed": true
   },
   "outputs": [],
   "source": [
    "factors_to_try = [10,25,50,75,100,125,150]\n",
    "rmse_train = np.zeros(len(factors_to_try))\n",
    "rmse_test = np.zeros(len(factors_to_try))\n",
    "elapsed_time = np.zeros(len(factors_to_try))\n",
    "\n",
    "for i in range(len(factors_to_try)):\n",
    "    nfactors = factors_to_try[i]\n",
    "    \n",
    "    t = time.time()\n",
    "    # First fold\n",
    "    algo = SVD(biased=False, n_epochs = 100, n_factors = nfactors)\n",
    "    algo.fit(train1)\n",
    "    testpredictions  = algo.test(test1, clip=False)\n",
    "    trainpredictions  = algo.test(trainest1, clip=False)\n",
    "    \n",
    "    rmse_test[i]  = accuracy.rmse(testpredictions )\n",
    "    rmse_train[i] = accuracy.rmse(trainpredictions)\n",
    "    \n",
    "    elapsed_time[i] = time.time() - t\n",
    "    print(rmse_test[i], 'time = ', elapsed_time[i])"
   ]
  },
  {
   "cell_type": "code",
   "execution_count": null,
   "metadata": {
    "collapsed": true
   },
   "outputs": [],
   "source": [
    "fig, axes = plt.subplots(1,1,figsize=(9,6))\n",
    "\n",
    "axes.plot(factors_to_try, rmse_test,  '-*', label=\"Validation\")\n",
    "axes.plot(factors_to_try, rmse_train, '-*', label=\"Train\")\n",
    "axes.set_title('Effect of nfactors')\n",
    "axes.set_xlabel('number of factors')\n",
    "axes.set_ylabel('rmse')\n",
    "axes.legend()\n",
    "fig.savefig('svd_rmse_nfactors.eps')\n",
    "\n",
    "# fig, axes = plt.subplots(1,1,figsize=(9,6))\n",
    "\n",
    "# axes.plot(factors_to_try, rmse_train,  '-*', label=\"train\")\n",
    "# axes.set_title('Effect of nfactors')\n",
    "# axes.set_xlabel('number of factors')\n",
    "# axes.set_ylabel('rmse')\n",
    "# axes.legend()\n",
    "# fig.savefig('svd_rmse_nfactors_train.eps')"
   ]
  },
  {
   "cell_type": "code",
   "execution_count": null,
   "metadata": {
    "collapsed": true
   },
   "outputs": [],
   "source": [
    "nfactors = 10\n",
    "reg_lambdas = 10**np.linspace(-6,1,8)\n",
    "rmse_train_lambda = np.zeros(len(reg_lambdas))\n",
    "rmse_test_lambda  = np.zeros(len(reg_lambdas))\n",
    "elapsed_time = np.zeros(len(reg_lambdas))\n",
    "for i in range(len(reg_lambdas)):\n",
    "    reg_lambda = reg_lambdas[i]\n",
    "    \n",
    "    t = time.time()\n",
    "    algo = SVD(biased=False, n_epochs = 100, n_factors = nfactors, reg_all=reg_lambda)\n",
    "    algo.fit(train1)\n",
    "    elapsed_time[i] = time.time() - t\n",
    "    \n",
    "    testpredictions  = algo.test(test1, clip=False)\n",
    "    trainpredictions = algo.test(trainest1, clip=False)\n",
    "    \n",
    "    rmse_train_lambda[i] = accuracy.rmse(trainpredictions)\n",
    "    rmse_test_lambda[i]  = accuracy.rmse(testpredictions)\n",
    "    \n",
    "    print(reg_lambda,rmse_train_lambda[i],rmse_test_lambda[i], 'time = ', elapsed_time[i])"
   ]
  },
  {
   "cell_type": "code",
   "execution_count": null,
   "metadata": {
    "collapsed": true
   },
   "outputs": [],
   "source": [
    "fig, axes = plt.subplots(1,1,figsize=(9,6))\n",
    "\n",
    "# axes[0].plot(factors_to_try, rmse_train, '-*', label=\"train\")\n",
    "axes.semilogx(reg_lambdas, rmse_test_lambda, '-*', label=\"Validation\")\n",
    "axes.semilogx(reg_lambdas, rmse_train_lambda, '-*', label=\"train\")\n",
    "axes.set_title('Effect of regularization')\n",
    "axes.set_xlabel('lambda')\n",
    "axes.set_ylabel('rmse')\n",
    "axes.legend()\n",
    "fig.savefig('svd_rmse_lambda.eps')\n",
    "\n",
    "# axes[1].semilogx(reg_lambdas, rmse_test_lambda, '-*', label=\"test\")\n",
    "# axes[1].set_title('Effect of regularization')\n",
    "# axes[1].set_xlabel('lambda')\n",
    "# axes[1].set_ylabel('rmse')\n",
    "# axes[1].legend()"
   ]
  },
  {
   "cell_type": "code",
   "execution_count": 7,
   "metadata": {},
   "outputs": [
    {
     "name": "stdout",
     "output_type": "stream",
     "text": [
      "18.03886580467224\n"
     ]
    }
   ],
   "source": [
    "t = time.time()\n",
    "algo = SVD(biased=False, n_epochs = 20, n_factors = 10, reg_all=0.1)\n",
    "algo.fit(train1)\n",
    "elapsed = time.time() - t\n",
    "print(elapsed)"
   ]
  },
  {
   "cell_type": "code",
   "execution_count": 8,
   "metadata": {
    "collapsed": true
   },
   "outputs": [],
   "source": [
    "def recommendation_for_userids(algo, k, trainset, testdic, userids):\n",
    "    user_est_true = defaultdict(list)\n",
    "    allq = algo.qi\n",
    "    numitem = len(trainset.all_items())\n",
    "    \n",
    "    for u in userids:\n",
    "        u_numid = trainset.to_inner_uid(u)\n",
    "        pu = algo.pu[u_numid]\n",
    "        user_est_true[u] = np.dot(allq, pu)\n",
    "        \n",
    "        # exclude those in train set    \n",
    "        #user_items = [j for (j, _) in trainset.ur[u_numid]]\n",
    "        #mask = np.ones(numitem, dtype=bool)\n",
    "        #mask[user_items] = False\n",
    "        #user_est_true[u] = (user_est_true[u])[mask]\n",
    "        \n",
    "        # sort to get largest k value\n",
    "        user_est_true[u] = (-user_est_true[u]).argsort()[:k]\n",
    "        user_est_true[u] = [trainset.to_raw_iid(j) for j in user_est_true[u]]\n",
    "    \n",
    "    return user_est_true"
   ]
  },
  {
   "cell_type": "code",
   "execution_count": null,
   "metadata": {
    "collapsed": true
   },
   "outputs": [],
   "source": [
    "## test code\n",
    "# test = recommendation_for_userids(algo,50,train1,valid1dict,user_ids[:1])\n",
    "# print(test)"
   ]
  },
  {
   "cell_type": "code",
   "execution_count": 10,
   "metadata": {},
   "outputs": [],
   "source": [
    "valid1dict = create_test_dict(test1)\n",
    "user_ids = list(valid1dict.keys())"
   ]
  },
  {
   "cell_type": "code",
   "execution_count": 12,
   "metadata": {},
   "outputs": [
    {
     "name": "stdout",
     "output_type": "stream",
     "text": [
      "1072.2440650463104\n"
     ]
    }
   ],
   "source": [
    "t = time.time()\n",
    "user_reclist_dict = recommendation_for_userids(algo,50,train1,valid1dict,user_ids)\n",
    "elapsed = time.time()-t\n",
    "print(elapsed)"
   ]
  },
  {
   "cell_type": "code",
   "execution_count": 11,
   "metadata": {
    "collapsed": true
   },
   "outputs": [],
   "source": [
    "testdict = create_test_dict(testset)\n",
    "user_ids_test = list(testdict.keys())"
   ]
  },
  {
   "cell_type": "code",
   "execution_count": 14,
   "metadata": {},
   "outputs": [
    {
     "name": "stdout",
     "output_type": "stream",
     "text": [
      "1452.989224910736\n"
     ]
    }
   ],
   "source": [
    "t = time.time()\n",
    "user_reclist_dict_test = recommendation_for_userids(algo,50,train1,testdict,user_ids_test)\n",
    "elapsed = time.time()-t\n",
    "print(elapsed)"
   ]
  },
  {
   "cell_type": "code",
   "execution_count": 21,
   "metadata": {
    "collapsed": true
   },
   "outputs": [],
   "source": [
    "def precision_recall_at_k_nothreshold(user_reclist_dict, traindict, testdict, k):\n",
    "    '''Return precision and recall at k metrics'''\n",
    "    precisions = dict()\n",
    "    recalls = dict()\n",
    "\n",
    "    for uid in user_reclist_dict.keys():\n",
    "        \n",
    "        rec_in_train = [j for j in range(k) if user_reclist_dict[uid][j] in traindict[uid] ]\n",
    "        num_in_train = len(rec_in_train)\n",
    "        \n",
    "        n_rel   = len(testdict[uid])\n",
    "        n_rec_k = k - num_in_train\n",
    "        n_rel_and_rec_k = len([j for j in range(k) if user_reclist_dict[uid][j] in testdict[uid]])\n",
    "\n",
    "        # Precision@K: Proportion of recommended items that are relevant\n",
    "        precisions[uid] = n_rel_and_rec_k / n_rec_k if n_rec_k != 0 else 1\n",
    "\n",
    "        # Recall@K: Proportion of relevant items that are recommended\n",
    "        recalls[uid] = n_rel_and_rec_k / n_rel if n_rel != 0 else 1\n",
    "    \n",
    "    # return precisions, recalls, numzero_n_rec_k\n",
    "    return precisions, recalls"
   ]
  },
  {
   "cell_type": "code",
   "execution_count": 9,
   "metadata": {},
   "outputs": [
    {
     "name": "stdout",
     "output_type": "stream",
     "text": [
      "[241938, 740203, 744868, 256846, 2922123, 817737, 1924513, 1959644, 1152971, 2132413, 1242685, 1322702, 2582776, 1335588, 2352216, 2586714, 1735454, 604321, 1250172, 2174926, 2920322, 1381601, 2159596, 2575595, 809794]\n"
     ]
    }
   ],
   "source": [
    "train1dic = create_test_dict(trainest1)\n",
    "print(train1dic[3020287])"
   ]
  },
  {
   "cell_type": "code",
   "execution_count": 22,
   "metadata": {},
   "outputs": [
    {
     "name": "stdout",
     "output_type": "stream",
     "text": [
      "k =  1 0.0272481936102 0.000807282176439 0.00156810607733\n",
      "k =  2 0.0071820318621 0.00160221115758 0.00261994836841\n",
      "k =  3 0.00399727227881 0.00228859518165 0.00291070027632\n",
      "k =  4 0.00303604074171 0.00283346578071 0.00293125751462\n",
      "k =  5 0.00269797742375 0.00324809810968 0.00294758965667\n",
      "k =  6 0.00219088244682 0.00351577366464 0.00269953074389\n",
      "k =  7 0.00212227486973 0.00415581475584 0.00280970223287\n",
      "k =  8 0.00199884341305 0.00459421470456 0.00278569235597\n",
      "k =  9 0.00187432376973 0.00493493803431 0.00271679131337\n",
      "k =  10 0.00175994326229 0.00526825133119 0.00263846520214\n",
      "k =  11 0.00170719682994 0.0056242610924 0.00261932096165\n",
      "k =  12 0.00165655139865 0.00592726061843 0.00258941330442\n",
      "k =  13 0.00162724561066 0.00639247061616 0.00259413661462\n",
      "k =  14 0.00157095861588 0.00672062091493 0.00254663596752\n",
      "k =  15 0.00149648831093 0.00684260145608 0.00245587309442\n",
      "k =  16 0.00143229115709 0.00706108515262 0.002381509886\n",
      "k =  17 0.00136378497157 0.00717068109338 0.00229171152281\n",
      "k =  18 0.00131101305988 0.00733795092636 0.00222457846107\n",
      "k =  19 0.00126618005144 0.00748485612353 0.00216595505309\n",
      "k =  20 0.00121504088698 0.00755885281545 0.00209355516283\n",
      "k =  21 0.00117000870971 0.00767238695549 0.00203039083572\n",
      "k =  22 0.00111960665091 0.00773006084772 0.00195592151647\n",
      "k =  23 0.00108582930869 0.00796003095886 0.00191098130141\n",
      "k =  24 0.00105505490825 0.00813818265829 0.00186794467036\n",
      "k =  25 0.00101975656282 0.00821271480713 0.00181424225162\n",
      "k =  26 0.000996799624833 0.00836160637675 0.00178125336685\n",
      "k =  27 0.000971510471504 0.0084558829107 0.00174278901081\n",
      "k =  28 0.000949922184366 0.00858579166884 0.00171058697904\n",
      "k =  29 0.000924172209519 0.0086398052969 0.00166973791933\n",
      "k =  30 0.00090412602993 0.00877365225433 0.00163931992399\n",
      "k =  31 0.000882034781974 0.00881664160588 0.00160363832045\n",
      "k =  32 0.000856856321207 0.00890369653754 0.00156326978004\n",
      "k =  33 0.000839571477554 0.00902429525438 0.00153622126221\n",
      "k =  34 0.000823807970612 0.00918752325125 0.0015120376535\n",
      "k =  35 0.000800383999071 0.00923105071708 0.00147304657761\n",
      "k =  36 0.000782556254043 0.00930722378228 0.00144372348106\n",
      "k =  37 0.000763770670759 0.00937873319043 0.0014125114346\n",
      "k =  38 0.000749997737869 0.00947309451815 0.00138995115789\n",
      "k =  39 0.000736919302441 0.00957032470156 0.00136846610024\n",
      "k =  40 0.000719877178536 0.00962473403385 0.00133956245202\n",
      "k =  41 0.000703499697943 0.0096537523444 0.00131143122337\n",
      "k =  42 0.000690283883568 0.00972344810814 0.00128905555225\n",
      "k =  43 0.000676581805382 0.00975029004541 0.00126535914823\n",
      "k =  44 0.000663898088084 0.00979019022242 0.0012434730562\n",
      "k =  45 0.00065417155336 0.00987802243026 0.00122707980643\n",
      "k =  46 0.000642245816958 0.00992517718491 0.0012064253562\n",
      "k =  47 0.000633710229916 0.0100315776569 0.00119211285262\n",
      "k =  48 0.000621939954086 0.010062046883 0.00117147073875\n",
      "k =  49 0.000614202912075 0.01016361097 0.00115840179155\n",
      "k =  50 0.000605196173972 0.0102289021687 0.00114277944701\n"
     ]
    }
   ],
   "source": [
    "klist = list(range(1,51))\n",
    "precision = np.zeros(len(klist))\n",
    "recall = np.zeros(len(klist))\n",
    "f1 = np.zeros(len(klist))\n",
    "\n",
    "for t,k in enumerate(klist):\n",
    "    precisions, recalls = precision_recall_at_k_nothreshold(user_reclist_dict, train1dic, valid1dict, k=k)\n",
    "    precision[t] = sum(prec for prec in precisions.values()) / len(precisions)\n",
    "    recall[t] = sum(rec for rec in recalls.values()) / len(recalls)\n",
    "    f1[t] = 2*(precision[t]*recall[t])/(precision[t]+recall[t])\n",
    "    print('k = ', k, precision[t], recall[t], f1[t])"
   ]
  },
  {
   "cell_type": "code",
   "execution_count": 23,
   "metadata": {},
   "outputs": [
    {
     "name": "stdout",
     "output_type": "stream",
     "text": [
      "k =  1 0.0284142988084 0.000991549878547 0.00191623066774\n",
      "k =  2 0.00818384182271 0.00182842047102 0.00298903554087\n",
      "k =  3 0.0045247552122 0.00241531884173 0.0031494553036\n",
      "k =  4 0.00364090029535 0.00332419892765 0.00347534944441\n",
      "k =  5 0.00316005412247 0.00381209603725 0.00345558529917\n",
      "k =  6 0.00286907307989 0.00431534300816 0.00344663624809\n",
      "k =  7 0.00266632164629 0.00484248634335 0.00343906148005\n",
      "k =  8 0.00247131238686 0.00527279345494 0.00336532584774\n",
      "k =  9 0.00236441149431 0.00582286886753 0.00336318227098\n",
      "k =  10 0.00219344281149 0.00617355298474 0.00323684527768\n",
      "k =  11 0.00206973650407 0.00641155122916 0.00312929405159\n",
      "k =  12 0.00194851329787 0.00662419255415 0.00301126097225\n",
      "k =  13 0.00185005696005 0.00681308823211 0.0029099365239\n",
      "k =  14 0.00176045844175 0.00711672175396 0.00282267400528\n",
      "k =  15 0.00166989156121 0.0072572413491 0.00271504999607\n",
      "k =  16 0.00159635568337 0.00744655222979 0.00262909809271\n",
      "k =  17 0.00153273957817 0.00765288896552 0.00255396476115\n",
      "k =  18 0.00146878949256 0.00778826850689 0.00247148218123\n",
      "k =  19 0.00140926779753 0.00795485515377 0.00239435583247\n",
      "k =  20 0.00135674526096 0.00815478337844 0.00232643229544\n",
      "k =  21 0.00131438664281 0.00831426870226 0.00226992520457\n",
      "k =  22 0.0012672719555 0.00840197870224 0.0022023613529\n",
      "k =  23 0.00121731134726 0.00847763377331 0.00212892794375\n",
      "k =  24 0.00117904704836 0.00855103720536 0.00207235105361\n",
      "k =  25 0.00113889097406 0.00860341379303 0.0020115056035\n",
      "k =  26 0.00111771467731 0.00877111051369 0.00198276312263\n",
      "k =  27 0.00108561007806 0.00886843328026 0.0019344220633\n",
      "k =  28 0.00105555007815 0.00894372462502 0.00188824679933\n",
      "k =  29 0.00103360404195 0.00907175628376 0.00185576835665\n",
      "k =  30 0.00101031145368 0.00926234886666 0.00182189556671\n",
      "k =  31 0.000982380084623 0.00938383345193 0.00177856477065\n",
      "k =  32 0.000957046358533 0.00945257772325 0.00173811369512\n",
      "k =  33 0.00093320558686 0.00954610734408 0.0017002032032\n",
      "k =  34 0.000906645362873 0.00957666035355 0.00165646885367\n",
      "k =  35 0.000888416385427 0.0096617723085 0.00162720821023\n",
      "k =  36 0.000869548743124 0.00976143331559 0.00159685004147\n",
      "k =  37 0.000850442830389 0.00981474519946 0.00156525692067\n",
      "k =  38 0.000829513233283 0.00983293151462 0.00152995809239\n",
      "k =  39 0.000808071155561 0.00984384330372 0.00149353918753\n",
      "k =  40 0.000791309454028 0.00988530810229 0.00146532133722\n",
      "k =  41 0.000779672633139 0.00994352320568 0.0014459668623\n",
      "k =  42 0.000762207083104 0.009979895836 0.00141624919294\n",
      "k =  43 0.000748652478217 0.0100897931405 0.00139388043361\n",
      "k =  44 0.000737273716743 0.0101572251443 0.00137475899157\n",
      "k =  45 0.000722033893362 0.0101877781538 0.00134849639816\n",
      "k =  46 0.000708505796549 0.0102496116254 0.00132539358164\n",
      "k =  47 0.000694668692738 0.0102728901088 0.00130133884334\n",
      "k =  48 0.000683270101745 0.0103616393268 0.00128200206672\n",
      "k =  49 0.000669595945859 0.010383462905 0.00125806344813\n",
      "k =  50 0.000657375573492 0.0104067413884 0.00123663508113\n"
     ]
    }
   ],
   "source": [
    "klist = list(range(1,51))\n",
    "precision_test = np.zeros(len(klist))\n",
    "recall_test = np.zeros(len(klist))\n",
    "f1_test = np.zeros(len(klist))\n",
    "\n",
    "for t,k in enumerate(klist):\n",
    "    precisions_test, recalls_test = precision_recall_at_k_nothreshold(user_reclist_dict_test, train1dic, testdict, k=k)\n",
    "    precision_test[t] = sum(prec for prec in precisions_test.values()) / len(precisions_test)\n",
    "    recall_test[t] = sum(rec for rec in recalls_test.values()) / len(recalls_test)\n",
    "    f1_test[t] = 2*(precision_test[t]*recall_test[t])/(precision_test[t]+recall_test[t])\n",
    "    print('k = ', k, precision_test[t], recall_test[t], f1_test[t])"
   ]
  },
  {
   "cell_type": "code",
   "execution_count": 24,
   "metadata": {},
   "outputs": [
    {
     "data": {
      "image/png": "[encoded data removed]",
      "text/plain": [
       "<matplotlib.figure.Figure at 0x1256c6668>"
      ]
     },
     "metadata": {},
     "output_type": "display_data"
    }
   ],
   "source": [
    "fig, axes = plt.subplots(1,1,figsize=(9,6))\n",
    "\n",
    "axes.plot(precision, recall,'-',label=\"validation\")\n",
    "axes.plot(precision_test, recall_test,'-', label=\"test\")\n",
    "axes.set_title('PR curve, lambda = 0.1, n_factor = 10')\n",
    "axes.legend()\n",
    "fig.savefig('svd_pr_k.eps')"
   ]
  },
  {
   "cell_type": "code",
   "execution_count": 25,
   "metadata": {},
   "outputs": [
    {
     "data": {
      "image/png": "[encoded data removed]",
      "text/plain": [
       "<matplotlib.figure.Figure at 0x1257712e8>"
      ]
     },
     "metadata": {},
     "output_type": "display_data"
    }
   ],
   "source": [
    "fig, axes = plt.subplots(1,1,figsize=(9,6))\n",
    "\n",
    "axes.plot(klist, f1,'-', label=\"validation\")\n",
    "axes.plot(klist, f1_test,'-', label=\"test\")\n",
    "axes.set_title('F1 score, lambda = 0.1, n_factor = 10')\n",
    "axes.legend()\n",
    "fig.savefig('svd_f1_k.eps')"
   ]
  },
  {
   "cell_type": "markdown",
   "metadata": {},
   "source": [
    "## Aggregate Diversity"
   ]
  },
  {
   "cell_type": "code",
   "execution_count": null,
   "metadata": {
    "collapsed": true
   },
   "outputs": [],
   "source": [
    "k = 3\n",
    "user_reclist_first_k = dict()\n",
    "print(len(user_reclist_dict_test.keys()))\n",
    "for u in user_reclist_dict_test.keys():\n",
    "   user_reclist_first_k[u] = user_reclist_dict_test[u][:k]\n",
    " \n",
    "print(list(user_reclist_dict_test.keys())[0], user_reclist_first_k[list(user_reclist_dict_test.keys())[0]])\n",
    "print(3070721, user_reclist_first_k[3070721])\n"
   ]
  },
  {
   "cell_type": "code",
   "execution_count": null,
   "metadata": {
    "collapsed": true
   },
   "outputs": [],
   "source": [
    "dict_for_aggregate  = utils.invert_dict(user_reclist_first_k)\n",
    "# print(dict_for_aggregate[2160922])\n",
    "aggregate_diversity = len(dict_for_aggregate.keys())\n",
    "print(aggregate_diversity)"
   ]
  },
  {
   "cell_type": "code",
   "execution_count": null,
   "metadata": {
    "collapsed": true
   },
   "outputs": [],
   "source": [
    "print(user_reclist_dict_test[user_ids[0]])\n",
    "print(user_reclist_first_k[user_ids[0]])"
   ]
  },
  {
   "cell_type": "markdown",
   "metadata": {},
   "source": [
    "## Dicovery Ratio"
   ]
  },
  {
   "cell_type": "code",
   "execution_count": null,
   "metadata": {
    "collapsed": true,
    "scrolled": true
   },
   "outputs": [],
   "source": [
    "klist = [1,3,15]\n",
    "for t,k in enumerate(klist):\n",
    "    user_reclist_first_k = dict()\n",
    "    for u in user_reclist_dict_test.keys():\n",
    "       user_reclist_first_k[u] = user_reclist_dict_test[u][:k]\n",
    "    discov = dict()\n",
    "    for u in user_reclist_first_k.keys():\n",
    "        discov[u] = (k - len([j for j in range(k) if user_reclist_dict_test[u][j] in testdict[u]]))/k\n",
    "    discov[t] = sum(dis for dis in discov.values()) / len(discov)\n",
    "    print(discov[t])"
   ]
  },
  {
   "cell_type": "markdown",
   "metadata": {},
   "source": [
    "## Example recommendation"
   ]
  },
  {
   "cell_type": "code",
   "execution_count": null,
   "metadata": {
    "collapsed": true
   },
   "outputs": [],
   "source": [
    "def get_paper_names_given_numbering(datadir='../dblp-ref'):\n",
    "    # When using surprise, it seems like we don't need this method.\n",
    "    # This method assigns nonnegative integer numbers to each paper id,\n",
    "    # and record it in a dictionary for efficient lookup.\n",
    "    DBLP_LIST = [ datadir+'/dblp-ref-0.json',\n",
    "        datadir+'/dblp-ref-1.json',\n",
    "        datadir+'/dblp-ref-2.json',\n",
    "        datadir+'/dblp-ref-3.json' ]\n",
    "    \n",
    "    name = dict()\n",
    "    current_id = 0\n",
    "\n",
    "    for data in DBLP_LIST:\n",
    "        with open(data) as f:\n",
    "            line = f.readline()\n",
    "            while line:\n",
    "                data = json.loads(line)\n",
    "                name[current_id]   = data[\"title\"]\n",
    "                current_id += 1\n",
    "                line = f.readline()\n",
    "\n",
    "    return name\n",
    "import json\n",
    "name = get_paper_names_given_numbering()"
   ]
  },
  {
   "cell_type": "code",
   "execution_count": null,
   "metadata": {
    "collapsed": true
   },
   "outputs": [],
   "source": [
    "k = 5\n",
    "user_reclist_first_k = dict()\n",
    "user_ids_test = list(testdict.keys())\n",
    "print(len(user_ids_test))\n",
    "\n",
    "for u in user_reclist_dict_test.keys():\n",
    "   user_reclist_first_k[u] = user_reclist_dict_test[u][:k]"
   ]
  },
  {
   "cell_type": "code",
   "execution_count": null,
   "metadata": {
    "collapsed": true
   },
   "outputs": [],
   "source": [
    "for u in user_ids_test:\n",
    "    temp = [j for j in range(k) if user_reclist_dict_test[u][j] in testdict[u]]\n",
    "    if len(temp) > 0:\n",
    "        print(name[u])\n",
    "        for j in range(k):\n",
    "            if j in temp:\n",
    "                print('   *', name[user_reclist_first_k[u][j]])\n",
    "            else:\n",
    "                print('    ', name[user_reclist_first_k[u][j]])"
   ]
  },
  {
   "cell_type": "code",
   "execution_count": 18,
   "metadata": {
    "collapsed": true
   },
   "outputs": [],
   "source": [
    "import math"
   ]
  },
  {
   "cell_type": "code",
   "execution_count": 19,
   "metadata": {
    "collapsed": true
   },
   "outputs": [],
   "source": [
    "def ndcg(recs, gt):\n",
    "    '''\n",
    "    input: 1. recs = recommendation list for one user.\n",
    "                recs = \n",
    "           2. gt = ratings of a user in the test set.\n",
    "                gt = a dictionary of lists with (key = each user) and (value = a list of items for this user)\n",
    "           \n",
    "    output: ndcg for a MODEL (not for each user) with a specific setting.\n",
    "    '''\n",
    "    Q, S = 0.0, 0.0\n",
    "    for u, vs in gt.items():\n",
    "        rec = recs.get(u, [])\n",
    "        if not rec:\n",
    "            continue\n",
    "\n",
    "        idcg = sum([1.0 / math.log(i + 2, 2) for i in range(len(vs))])\n",
    "        dcg = 0.0\n",
    "        for i, r in enumerate(rec):\n",
    "            if r not in vs:\n",
    "                continue\n",
    "            rank = i + 1\n",
    "            dcg += 1.0 / math.log(rank + 1, 2)\n",
    "        ndcg = dcg / idcg\n",
    "        S += ndcg\n",
    "        Q += 1\n",
    "    return S / Q"
   ]
  },
  {
   "cell_type": "code",
   "execution_count": 24,
   "metadata": {
    "collapsed": true
   },
   "outputs": [],
   "source": [
    "k = 50\n",
    "user_reclist_first_k = dict()\n",
    "for u in user_reclist_dict_test.keys():\n",
    "    user_reclist_first_k[u] = user_reclist_dict_test[u][:k]"
   ]
  },
  {
   "cell_type": "code",
   "execution_count": 25,
   "metadata": {},
   "outputs": [
    {
     "data": {
      "text/plain": [
       "0.006034940308555286"
      ]
     },
     "execution_count": 25,
     "metadata": {},
     "output_type": "execute_result"
    }
   ],
   "source": [
    "ndcg(user_reclist_first_k,testdict)"
   ]
  },
  {
   "cell_type": "code",
   "execution_count": null,
   "metadata": {
    "collapsed": true
   },
   "outputs": [],
   "source": []
  }
 ],
 "metadata": {
  "kernelspec": {
   "display_name": "Python 3",
   "language": "python",
   "name": "python3"
  },
  "language_info": {
   "codemirror_mode": {
    "name": "ipython",
    "version": 3
   },
   "file_extension": ".py",
   "mimetype": "text/x-python",
   "name": "python",
   "nbconvert_exporter": "python",
   "pygments_lexer": "ipython3",
   "version": "3.6.3"
  }
 },
 "nbformat": 4,
 "nbformat_minor": 2
}
