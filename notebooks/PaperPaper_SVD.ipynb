{
 "cells": [
  {
   "cell_type": "markdown",
   "metadata": {},
   "source": [
    "## SVD \n",
    "---\n",
    "Surprise algorithm: SVD(biased=False, n_epochs = 100)\n",
    "\n",
    "Hyperparameter: \n",
    "1. Threshold when do the recommendation\n",
    "2. n_factors in SVD \n",
    "\n",
    "Things to do:\n",
    "1. Calculate test loss\n",
    "2. Do the recommendations (done)\n",
    "3. Calculate precision, recall"
   ]
  },
  {
   "cell_type": "code",
   "execution_count": 1,
   "metadata": {
    "collapsed": true
   },
   "outputs": [],
   "source": [
    "import random\n",
    "import pandas as pd\n",
    "import json\n",
    "import numpy as np\n",
    "import scipy.sparse as sp\n",
    "import time\n",
    "from collections import defaultdict\n",
    "\n",
    "import matplotlib.pyplot as plt\n",
    "%matplotlib inline\n",
    "\n",
    "from matplotlib import rc\n",
    "rc('figure', figsize=(16, 8), max_open_warning=False)\n",
    "\n",
    "from surprise import SVD\n",
    "from surprise import Dataset, Reader\n",
    "from surprise import accuracy\n",
    "from surprise.model_selection import train_test_split\n",
    "\n",
    "import sys\n",
    "sys.path.insert(0, '../src')\n",
    "\n",
    "import preprocess\n",
    "import evaluation\n",
    "import utils"
   ]
  },
  {
   "cell_type": "code",
   "execution_count": 31,
   "metadata": {
    "collapsed": true
   },
   "outputs": [],
   "source": [
    "def create_surprise_paper_paper_data_from_tsv(datafilename,datadir=\"../dblp-ref/4fold\"):\n",
    "    itemList, userList, ratingList = [], [], []\n",
    "\n",
    "    df = pd.read_table(datadir+\"/\"+datafilename,\n",
    "                       usecols=[0, 1, 2],\n",
    "                       names=['userID', 'itemID', 'rating'],\n",
    "                       na_filter=False)\n",
    "    reader = Reader(rating_scale=(0,1))\n",
    "\n",
    "    data = Dataset.load_from_df(df[['userID', 'itemID', 'rating']], reader)\n",
    "\n",
    "    return data"
   ]
  },
  {
   "cell_type": "code",
   "execution_count": 35,
   "metadata": {},
   "outputs": [
    {
     "name": "stdout",
     "output_type": "stream",
     "text": [
      "usernum =  2556 itemnum =  2300\n",
      "# relationship in trainset =  500942\n",
      "# relationship in testset =  50732\n"
     ]
    }
   ],
   "source": [
    "trainset = create_surprise_paper_paper_data_from_tsv(\"4fold_0_train.tsv\").build_full_trainset()\n",
    "temp = create_surprise_paper_paper_data_from_tsv(\"4fold_0_val.tsv\").build_full_trainset()\n",
    "testset = temp.build_testset()\n",
    "\n",
    "print('usernum = ', usernum, 'itemnum = ', itemnum)\n",
    "print('# relationship in trainset = ', trainset.n_ratings)\n",
    "print('# relationship in testset = ', temp.n_ratings)"
   ]
  },
  {
   "cell_type": "code",
   "execution_count": 2,
   "metadata": {},
   "outputs": [
    {
     "name": "stdout",
     "output_type": "stream",
     "text": [
      "usernum =  2556 itemnum =  2300\n",
      "# relationship in trainset =  2937\n",
      "# relationship in testset =  186\n"
     ]
    }
   ],
   "source": [
    "random_dict = preprocess.create_random_subset_paper_paper_data(debug=True)\n",
    "# random_dict = preprocess.create_paper_paper_dict(debug=False)\n",
    "traindict, testdict = preprocess.create_train_test_dic(random_dict)\n",
    "\n",
    "trainset = preprocess.create_surprise_paper_paper_data(traindict).build_full_trainset()\n",
    "temp     = preprocess.create_surprise_paper_paper_data(testdict).build_full_trainset()\n",
    "testset  = temp.build_testset()\n",
    "\n",
    "usernum = trainset.n_users\n",
    "itemnum = trainset.n_items\n",
    "\n",
    "print('usernum = ', usernum, 'itemnum = ', itemnum)\n",
    "print('# relationship in trainset = ', trainset.n_ratings)\n",
    "print('# relationship in testset = ', temp.n_ratings)\n"
   ]
  },
  {
   "cell_type": "code",
   "execution_count": 3,
   "metadata": {},
   "outputs": [
    {
     "name": "stdout",
     "output_type": "stream",
     "text": [
      "t =  1.0185799598693848\n"
     ]
    }
   ],
   "source": [
    "start_time = time.time()\n",
    "algo = SVD(biased=False, n_epochs = 100)\n",
    "algo.fit(trainset)\n",
    "end_time = time.time()\n",
    "print('t = ', end_time - start_time)\n",
    "predictions = algo.test(testset, clip=False)\n",
    "df = pd.DataFrame(predictions, columns=['uid', 'iid', 'rui', 'est', 'details'])"
   ]
  },
  {
   "cell_type": "code",
   "execution_count": 4,
   "metadata": {},
   "outputs": [
    {
     "data": {
      "text/html": [
       "<div>\n",
       "<style>\n",
       "    .dataframe thead tr:only-child th {\n",
       "        text-align: right;\n",
       "    }\n",
       "\n",
       "    .dataframe thead th {\n",
       "        text-align: left;\n",
       "    }\n",
       "\n",
       "    .dataframe tbody tr th {\n",
       "        vertical-align: top;\n",
       "    }\n",
       "</style>\n",
       "<table border=\"1\" class=\"dataframe\">\n",
       "  <thead>\n",
       "    <tr style=\"text-align: right;\">\n",
       "      <th></th>\n",
       "      <th>uid</th>\n",
       "      <th>iid</th>\n",
       "      <th>rui</th>\n",
       "      <th>est</th>\n",
       "      <th>details</th>\n",
       "    </tr>\n",
       "  </thead>\n",
       "  <tbody>\n",
       "    <tr>\n",
       "      <th>0</th>\n",
       "      <td>9753c508-20e1-4f9b-baf4-f0c49008dcbc</td>\n",
       "      <td>d578fe46-9b3d-4425-8e2b-a2aac2170b06</td>\n",
       "      <td>1.0</td>\n",
       "      <td>-0.695802</td>\n",
       "      <td>{'was_impossible': False}</td>\n",
       "    </tr>\n",
       "    <tr>\n",
       "      <th>1</th>\n",
       "      <td>f1dede99-ff4e-4e9a-8950-2f91c9c02f6a</td>\n",
       "      <td>5e7b1c2c-baaf-466d-be01-c075002bf1fb</td>\n",
       "      <td>1.0</td>\n",
       "      <td>-1.045441</td>\n",
       "      <td>{'was_impossible': False}</td>\n",
       "    </tr>\n",
       "    <tr>\n",
       "      <th>2</th>\n",
       "      <td>f1dede99-ff4e-4e9a-8950-2f91c9c02f6a</td>\n",
       "      <td>e8cbffc8-d292-4d4b-ae22-f96c645e4461</td>\n",
       "      <td>1.0</td>\n",
       "      <td>-1.135835</td>\n",
       "      <td>{'was_impossible': False}</td>\n",
       "    </tr>\n",
       "    <tr>\n",
       "      <th>3</th>\n",
       "      <td>ed43ebb5-f6c4-4a3e-9ea3-8e5c17de7178</td>\n",
       "      <td>8188df0c-955f-4fef-961d-c67ae2ee3799</td>\n",
       "      <td>1.0</td>\n",
       "      <td>-0.971749</td>\n",
       "      <td>{'was_impossible': False}</td>\n",
       "    </tr>\n",
       "    <tr>\n",
       "      <th>4</th>\n",
       "      <td>5d98c64a-c521-41f7-95f9-eb07a4c40196</td>\n",
       "      <td>f967618b-e047-43a9-bea8-44b9e74d708f</td>\n",
       "      <td>1.0</td>\n",
       "      <td>-1.268508</td>\n",
       "      <td>{'was_impossible': False}</td>\n",
       "    </tr>\n",
       "    <tr>\n",
       "      <th>5</th>\n",
       "      <td>2ced1d5a-a5ff-4860-99d2-9832b11b1f40</td>\n",
       "      <td>978efa8a-b62a-4e76-a2a1-c3a7af5e1a60</td>\n",
       "      <td>1.0</td>\n",
       "      <td>-1.747784</td>\n",
       "      <td>{'was_impossible': False}</td>\n",
       "    </tr>\n",
       "    <tr>\n",
       "      <th>6</th>\n",
       "      <td>c59e69d0-32bb-416c-aed2-3211aa5ceb30</td>\n",
       "      <td>71f4c930-83fe-4cf2-b895-264d716e02b2</td>\n",
       "      <td>1.0</td>\n",
       "      <td>-1.266617</td>\n",
       "      <td>{'was_impossible': False}</td>\n",
       "    </tr>\n",
       "    <tr>\n",
       "      <th>7</th>\n",
       "      <td>b2336fd0-40a2-4c1f-9c4b-fcbfd5c68ac4</td>\n",
       "      <td>d35738a8-0c5f-4788-bbcc-ef55a504be78</td>\n",
       "      <td>1.0</td>\n",
       "      <td>-0.960524</td>\n",
       "      <td>{'was_impossible': False}</td>\n",
       "    </tr>\n",
       "    <tr>\n",
       "      <th>8</th>\n",
       "      <td>c4161e2c-84c1-4b71-a63a-33230f5ebce9</td>\n",
       "      <td>70f4dcf0-2784-4627-899c-1463988a3f52</td>\n",
       "      <td>1.0</td>\n",
       "      <td>-0.757577</td>\n",
       "      <td>{'was_impossible': False}</td>\n",
       "    </tr>\n",
       "    <tr>\n",
       "      <th>9</th>\n",
       "      <td>d9194ae3-7fa8-4c1c-a681-d1bac8050fa7</td>\n",
       "      <td>3662e5bc-d634-43c2-90fe-f18ebd3033f4</td>\n",
       "      <td>1.0</td>\n",
       "      <td>-0.950128</td>\n",
       "      <td>{'was_impossible': False}</td>\n",
       "    </tr>\n",
       "  </tbody>\n",
       "</table>\n",
       "</div>"
      ],
      "text/plain": [
       "                                    uid                                   iid  \\\n",
       "0  9753c508-20e1-4f9b-baf4-f0c49008dcbc  d578fe46-9b3d-4425-8e2b-a2aac2170b06   \n",
       "1  f1dede99-ff4e-4e9a-8950-2f91c9c02f6a  5e7b1c2c-baaf-466d-be01-c075002bf1fb   \n",
       "2  f1dede99-ff4e-4e9a-8950-2f91c9c02f6a  e8cbffc8-d292-4d4b-ae22-f96c645e4461   \n",
       "3  ed43ebb5-f6c4-4a3e-9ea3-8e5c17de7178  8188df0c-955f-4fef-961d-c67ae2ee3799   \n",
       "4  5d98c64a-c521-41f7-95f9-eb07a4c40196  f967618b-e047-43a9-bea8-44b9e74d708f   \n",
       "5  2ced1d5a-a5ff-4860-99d2-9832b11b1f40  978efa8a-b62a-4e76-a2a1-c3a7af5e1a60   \n",
       "6  c59e69d0-32bb-416c-aed2-3211aa5ceb30  71f4c930-83fe-4cf2-b895-264d716e02b2   \n",
       "7  b2336fd0-40a2-4c1f-9c4b-fcbfd5c68ac4  d35738a8-0c5f-4788-bbcc-ef55a504be78   \n",
       "8  c4161e2c-84c1-4b71-a63a-33230f5ebce9  70f4dcf0-2784-4627-899c-1463988a3f52   \n",
       "9  d9194ae3-7fa8-4c1c-a681-d1bac8050fa7  3662e5bc-d634-43c2-90fe-f18ebd3033f4   \n",
       "\n",
       "   rui       est                    details  \n",
       "0  1.0 -0.695802  {'was_impossible': False}  \n",
       "1  1.0 -1.045441  {'was_impossible': False}  \n",
       "2  1.0 -1.135835  {'was_impossible': False}  \n",
       "3  1.0 -0.971749  {'was_impossible': False}  \n",
       "4  1.0 -1.268508  {'was_impossible': False}  \n",
       "5  1.0 -1.747784  {'was_impossible': False}  \n",
       "6  1.0 -1.266617  {'was_impossible': False}  \n",
       "7  1.0 -0.960524  {'was_impossible': False}  \n",
       "8  1.0 -0.757577  {'was_impossible': False}  \n",
       "9  1.0 -0.950128  {'was_impossible': False}  "
      ]
     },
     "execution_count": 4,
     "metadata": {},
     "output_type": "execute_result"
    }
   ],
   "source": [
    "df[0:10]"
   ]
  },
  {
   "cell_type": "code",
   "execution_count": 5,
   "metadata": {},
   "outputs": [
    {
     "name": "stdout",
     "output_type": "stream",
     "text": [
      "RMSE: 1.9861\n"
     ]
    },
    {
     "data": {
      "text/plain": [
       "1.9861247514325895"
      ]
     },
     "execution_count": 5,
     "metadata": {},
     "output_type": "execute_result"
    }
   ],
   "source": [
    "# rmse on test set\n",
    "accuracy.rmse(predictions)"
   ]
  },
  {
   "cell_type": "markdown",
   "metadata": {},
   "source": [
    "### Comments - \n",
    "1. All the estimate value are negative in the above table while they should be close to 1.\n",
    "\n",
    "2. We might not want to use the function provided in surprise since it doesn't take in account of the case when prediction is impossible."
   ]
  },
  {
   "cell_type": "code",
   "execution_count": 6,
   "metadata": {
    "collapsed": true
   },
   "outputs": [],
   "source": [
    "# Visualize train set data\n",
    "usernum = trainset.n_users\n",
    "itemnum = trainset.n_items\n",
    "\n",
    "papermat = sp.dok_matrix((usernum,itemnum), dtype=np.int8)\n",
    "for i in range(trainset.n_users):\n",
    "    for paper_id in trainset.ur[i]:\n",
    "        papermat[i, paper_id[0]] = 1"
   ]
  },
  {
   "cell_type": "code",
   "execution_count": 7,
   "metadata": {
    "collapsed": true
   },
   "outputs": [],
   "source": [
    "# Visualize test set data\n",
    "for j in range(len(testset)):\n",
    "    uid    = testset[j][0]\n",
    "    iid    = testset[j][1]\n",
    "    rating = testset[j][2]\n",
    "    try:\n",
    "        iuid = algo.trainset.to_inner_uid(uid)\n",
    "    except:\n",
    "        continue\n",
    "    try:\n",
    "        iiid = algo.trainset.to_inner_iid(iid)\n",
    "    except:\n",
    "        continue\n",
    "#     print(iuid, iiid)\n",
    "    papermat[iuid, iiid] = -1"
   ]
  },
  {
   "cell_type": "code",
   "execution_count": 8,
   "metadata": {},
   "outputs": [
    {
     "data": {
      "text/plain": [
       "<matplotlib.colorbar.Colorbar at 0x1102845f8>"
      ]
     },
     "execution_count": 8,
     "metadata": {},
     "output_type": "execute_result"
    },
    {
     "data": {
      "image/png": "[encoded data removed]",
      "text/plain": [
       "<matplotlib.figure.Figure at 0x1108832b0>"
      ]
     },
     "metadata": {},
     "output_type": "display_data"
    }
   ],
   "source": [
    "A = papermat.todense()\n",
    "fig, axes = plt.subplots(figsize=(20, 10))\n",
    "pos = axes.matshow(A[0:300,0:300], cmap='seismic',vmin=-2., vmax=2.)\n",
    "fig.colorbar(pos)"
   ]
  },
  {
   "cell_type": "code",
   "execution_count": 9,
   "metadata": {},
   "outputs": [
    {
     "data": {
      "image/png": "[encoded data removed]",
      "text/plain": [
       "<matplotlib.figure.Figure at 0x110883a58>"
      ]
     },
     "metadata": {},
     "output_type": "display_data"
    }
   ],
   "source": [
    "# Comment out following code if not using --\n",
    "#  https://github.com/MelodyShih/Surprise/tree/1003-project\n",
    "loss = algo.losshistory\n",
    "fig, ax = plt.subplots(figsize=(10, 5))\n",
    "ax.semilogy(range(len(loss)), loss, '--o')\n",
    "ax.set_xlabel('epoch')\n",
    "ax.set_ylabel('rmse')\n",
    "plt.grid(True)"
   ]
  },
  {
   "cell_type": "code",
   "execution_count": 38,
   "metadata": {},
   "outputs": [
    {
     "name": "stdout",
     "output_type": "stream",
     "text": [
      "RMSE: 0.5142\n"
     ]
    },
    {
     "ename": "NameError",
     "evalue": "name 'loss' is not defined",
     "output_type": "error",
     "traceback": [
      "\u001b[0;31m---------------------------------------------------------------------------\u001b[0m",
      "\u001b[0;31mNameError\u001b[0m                                 Traceback (most recent call last)",
      "\u001b[0;32m<ipython-input-38-c5a78cb84151>\u001b[0m in \u001b[0;36m<module>\u001b[0;34m()\u001b[0m\n\u001b[1;32m      2\u001b[0m \u001b[0mtrainpredictions\u001b[0m \u001b[0;34m=\u001b[0m \u001b[0malgo\u001b[0m\u001b[0;34m.\u001b[0m\u001b[0mtest\u001b[0m\u001b[0;34m(\u001b[0m\u001b[0mtrainestdata\u001b[0m\u001b[0;34m,\u001b[0m \u001b[0mclip\u001b[0m\u001b[0;34m=\u001b[0m\u001b[0;32mFalse\u001b[0m\u001b[0;34m)\u001b[0m\u001b[0;34m\u001b[0m\u001b[0m\n\u001b[1;32m      3\u001b[0m \u001b[0mrmse\u001b[0m \u001b[0;34m=\u001b[0m \u001b[0maccuracy\u001b[0m\u001b[0;34m.\u001b[0m\u001b[0mrmse\u001b[0m\u001b[0;34m(\u001b[0m\u001b[0mtrainpredictions\u001b[0m\u001b[0;34m)\u001b[0m\u001b[0;34m\u001b[0m\u001b[0m\n\u001b[0;32m----> 4\u001b[0;31m \u001b[0mprint\u001b[0m\u001b[0;34m(\u001b[0m\u001b[0mloss\u001b[0m\u001b[0;34m[\u001b[0m\u001b[0;34m-\u001b[0m\u001b[0;36m1\u001b[0m\u001b[0;34m]\u001b[0m\u001b[0;34m)\u001b[0m\u001b[0;34m\u001b[0m\u001b[0m\n\u001b[0m",
      "\u001b[0;31mNameError\u001b[0m: name 'loss' is not defined"
     ]
    }
   ],
   "source": [
    "trainestdata = trainset.build_testset()\n",
    "trainpredictions = algo.test(trainestdata, clip=False)\n",
    "rmse = accuracy.rmse(trainpredictions)\n",
    "print(loss[-1])"
   ]
  },
  {
   "cell_type": "code",
   "execution_count": 11,
   "metadata": {},
   "outputs": [
    {
     "name": "stdout",
     "output_type": "stream",
     "text": [
      "(2556, 2300)\n"
     ]
    }
   ],
   "source": [
    "# Only work for SVD with biased = False\n",
    "pu = algo.pu\n",
    "qi = algo.qi\n",
    "\n",
    "Abar = np.dot(pu, np.transpose(qi))\n",
    "print(Abar.shape)\n",
    "Abar = Abar - np.ones(Abar.shape)"
   ]
  },
  {
   "cell_type": "code",
   "execution_count": 12,
   "metadata": {},
   "outputs": [
    {
     "name": "stdout",
     "output_type": "stream",
     "text": [
      "-2.98863531052 1.10685136322\n"
     ]
    },
    {
     "data": {
      "image/png": "[encoded data removed]",
      "text/plain": [
       "<matplotlib.figure.Figure at 0x1106157b8>"
      ]
     },
     "metadata": {},
     "output_type": "display_data"
    }
   ],
   "source": [
    "fig, axes = plt.subplots(1, 2)\n",
    "threshold = -3\n",
    "\n",
    "minvalue = np.amin(Abar)\n",
    "maxvalue = np.amax(Abar)\n",
    "print(minvalue, maxvalue)\n",
    "\n",
    "mask = Abar[0:80, 0:80] >= threshold\n",
    "pos = axes[0].matshow(Abar[0:80,0:80] , cmap='seismic',vmin=-3, vmax=3.)\n",
    "axes[0].set_title('Estimated')\n",
    "fig.colorbar(pos, ax=axes[0])\n",
    "\n",
    "pos = axes[1].matshow(A[0:80, 0:80] , cmap='seismic',vmin=-3, vmax=3.)\n",
    "axes[1].set_title('True')\n",
    "fig.colorbar(pos, ax=axes[1])\n",
    "fig.savefig('estimate_true.png')"
   ]
  },
  {
   "cell_type": "code",
   "execution_count": 13,
   "metadata": {},
   "outputs": [
    {
     "data": {
      "image/png": "[encoded data removed]",
      "text/plain": [
       "<matplotlib.figure.Figure at 0x110626b38>"
      ]
     },
     "metadata": {},
     "output_type": "display_data"
    }
   ],
   "source": [
    "plt.hist(Abar[0:100, 0:100],bins=100)\n",
    "plt.show()"
   ]
  },
  {
   "cell_type": "markdown",
   "metadata": {},
   "source": [
    "### Comments - \n",
    "From loss and the above graph, SVD fits the training data well."
   ]
  },
  {
   "cell_type": "markdown",
   "metadata": {},
   "source": [
    "## Hyperparameter"
   ]
  },
  {
   "cell_type": "code",
   "execution_count": 16,
   "metadata": {},
   "outputs": [
    {
     "name": "stdout",
     "output_type": "stream",
     "text": [
      "2556\n",
      "2300\n"
     ]
    }
   ],
   "source": [
    "print(trainset.n_users)\n",
    "print(trainset.n_items)"
   ]
  },
  {
   "cell_type": "markdown",
   "metadata": {},
   "source": [
    "### number of factors (n_factors)"
   ]
  },
  {
   "cell_type": "code",
   "execution_count": 37,
   "metadata": {},
   "outputs": [
    {
     "ename": "NameError",
     "evalue": "name 'trainestdata' is not defined",
     "output_type": "error",
     "traceback": [
      "\u001b[0;31m---------------------------------------------------------------------------\u001b[0m",
      "\u001b[0;31mNameError\u001b[0m                                 Traceback (most recent call last)",
      "\u001b[0;32m<ipython-input-37-6d7fa5399a04>\u001b[0m in \u001b[0;36m<module>\u001b[0;34m()\u001b[0m\n\u001b[1;32m     12\u001b[0m \u001b[0;34m\u001b[0m\u001b[0m\n\u001b[1;32m     13\u001b[0m     \u001b[0mtestpredictions\u001b[0m  \u001b[0;34m=\u001b[0m \u001b[0malgo\u001b[0m\u001b[0;34m.\u001b[0m\u001b[0mtest\u001b[0m\u001b[0;34m(\u001b[0m\u001b[0mtestset\u001b[0m\u001b[0;34m,\u001b[0m \u001b[0mclip\u001b[0m\u001b[0;34m=\u001b[0m\u001b[0;32mFalse\u001b[0m\u001b[0;34m)\u001b[0m\u001b[0;34m\u001b[0m\u001b[0m\n\u001b[0;32m---> 14\u001b[0;31m     \u001b[0mtrainpredictions\u001b[0m \u001b[0;34m=\u001b[0m \u001b[0malgo\u001b[0m\u001b[0;34m.\u001b[0m\u001b[0mtest\u001b[0m\u001b[0;34m(\u001b[0m\u001b[0mtrainestdata\u001b[0m\u001b[0;34m,\u001b[0m \u001b[0mclip\u001b[0m\u001b[0;34m=\u001b[0m\u001b[0;32mFalse\u001b[0m\u001b[0;34m)\u001b[0m\u001b[0;34m\u001b[0m\u001b[0m\n\u001b[0m\u001b[1;32m     15\u001b[0m \u001b[0;34m\u001b[0m\u001b[0m\n\u001b[1;32m     16\u001b[0m     \u001b[0mrmse_train\u001b[0m\u001b[0;34m[\u001b[0m\u001b[0mi\u001b[0m\u001b[0;34m]\u001b[0m \u001b[0;34m=\u001b[0m \u001b[0maccuracy\u001b[0m\u001b[0;34m.\u001b[0m\u001b[0mrmse\u001b[0m\u001b[0;34m(\u001b[0m\u001b[0mtrainpredictions\u001b[0m\u001b[0;34m)\u001b[0m\u001b[0;34m\u001b[0m\u001b[0m\n",
      "\u001b[0;31mNameError\u001b[0m: name 'trainestdata' is not defined"
     ]
    }
   ],
   "source": [
    "factors_to_try = [10,50,100,500,1000]\n",
    "rmse_train = np.zeros(len(factors_to_try))\n",
    "rmse_test = np.zeros(len(factors_to_try))\n",
    "elapsed_time = np.zeros(len(factors_to_try))\n",
    "for i in range(len(factors_to_try)):\n",
    "    nfactors = factors_to_try[i]\n",
    "    \n",
    "    t = time.time()\n",
    "    algo = SVD(biased=False, n_epochs = 100, n_factors = nfactors)\n",
    "    algo.fit(trainset)\n",
    "    elapsed_time[i] = time.time() - t\n",
    "    \n",
    "    testpredictions  = algo.test(testset, clip=False)\n",
    "    trainpredictions = algo.test(trainestdata, clip=False)\n",
    "    \n",
    "    rmse_train[i] = accuracy.rmse(trainpredictions)\n",
    "    rmse_test[i]  = accuracy.rmse(testpredictions)\n",
    "    print(rmse_train[i], rmse_test[i], 'time = ', elapsed_time[i])"
   ]
  },
  {
   "cell_type": "code",
   "execution_count": 18,
   "metadata": {},
   "outputs": [
    {
     "data": {
      "image/png": "[encoded data removed]",
      "text/plain": [
       "<matplotlib.figure.Figure at 0x10f639d30>"
      ]
     },
     "metadata": {},
     "output_type": "display_data"
    }
   ],
   "source": [
    "fig, axes = plt.subplots(1,2,figsize=(18,6))\n",
    "\n",
    "# axes[0].plot(factors_to_try, rmse_train, '-*', label=\"train\")\n",
    "axes[0].loglog(factors_to_try, rmse_train, '-*', label=\"test\")\n",
    "axes[0].set_title('Effect of nfactors')\n",
    "axes[0].set_xlabel('number of factors')\n",
    "axes[0].set_ylabel('rmse')\n",
    "axes[0].legend()\n",
    "\n",
    "axes[1].plot(factors_to_try, rmse_test, '-*', label=\"test\")\n",
    "axes[1].set_title('Effect of nfactors')\n",
    "axes[1].set_xlabel('number of factors')\n",
    "axes[1].set_ylabel('rmse')\n",
    "axes[1].legend()\n",
    "fig.savefig('svd_nfactors.png')\n",
    "\n",
    "# fig, axes = plt.subplots(figsize=(9,6))\n",
    "# axes.plot(factors_to_try, elapsed_time, '-*')\n",
    "# axes.set_title('Time to train the model')\n",
    "# axes.set_xlabel('number of factors')\n",
    "# axes.set_ylabel('seconds')"
   ]
  },
  {
   "cell_type": "markdown",
   "metadata": {},
   "source": [
    "### Comments:\n",
    "Changing the number of factors doens't seem to help us reduce the root mean square error (rmse)."
   ]
  },
  {
   "cell_type": "markdown",
   "metadata": {},
   "source": [
    "### lambda"
   ]
  },
  {
   "cell_type": "code",
   "execution_count": null,
   "metadata": {
    "collapsed": true
   },
   "outputs": [],
   "source": [
    "nfactors = 50\n",
    "reg_lambdas = 10**np.linspace(-3,2,6)\n",
    "rmse_train_lambda = np.zeros(len(reg_lambdas))\n",
    "rmse_test_lambda  = np.zeros(len(reg_lambdas))\n",
    "elapsed_time = np.zeros(len(reg_lambdas))\n",
    "for i in range(len(reg_lambdas)):\n",
    "    reg_lambda = reg_lambdas[i]\n",
    "    \n",
    "    t = time.time()\n",
    "    algo = SVD(biased=False, n_epochs = 300, n_factors = nfactors, reg_all=reg_lambda)\n",
    "    algo.fit(trainset)\n",
    "    elapsed_time[i] = time.time() - t\n",
    "    \n",
    "    testpredictions  = algo.test(testset, clip=False)\n",
    "    trainpredictions = algo.test(trainestdata, clip=False)\n",
    "    \n",
    "    rmse_train_lambda[i] = accuracy.rmse(trainpredictions)\n",
    "    rmse_test_lambda[i]  = accuracy.rmse(testpredictions)\n",
    "    print(reg_lambda,rmse_train_lambda[i],rmse_test_lambda[i], 'time = ', elapsed_time[i])"
   ]
  },
  {
   "cell_type": "code",
   "execution_count": null,
   "metadata": {
    "collapsed": true
   },
   "outputs": [],
   "source": [
    "fig, axes = plt.subplots(1,2,figsize=(18,6))\n",
    "\n",
    "# axes[0].plot(factors_to_try, rmse_train, '-*', label=\"train\")\n",
    "axes[0].semilogx(reg_lambdas, rmse_train_lambda, '-*', label=\"train\")\n",
    "axes[0].set_title('Effect of regularization')\n",
    "axes[0].set_xlabel('lambda')\n",
    "axes[0].set_ylabel('rmse')\n",
    "axes[0].legend()\n",
    "\n",
    "axes[1].semilogx(reg_lambdas, rmse_test_lambda, '-*', label=\"test\")\n",
    "axes[1].set_title('Effect of regularization')\n",
    "axes[1].set_xlabel('lambda')\n",
    "axes[1].set_ylabel('rmse')\n",
    "axes[1].legend()\n",
    "fig.savefig('svd_regularization.png')\n",
    "\n",
    "# fig, axes = plt.subplots(figsize=(9,6))\n",
    "# axes.plot(reg_lambdas, elapsed_time, '-*')\n",
    "# axes.set_title('Time to train the model')\n",
    "# axes.set_xlabel('lambda')\n",
    "# axes.set_ylabel('seconds')"
   ]
  },
  {
   "cell_type": "markdown",
   "metadata": {},
   "source": [
    "## Recommendation list"
   ]
  },
  {
   "cell_type": "code",
   "execution_count": null,
   "metadata": {
    "collapsed": true
   },
   "outputs": [],
   "source": [
    "# this function can put in surprise\n",
    "def build_data_for_prediction(self,user_ids):\n",
    "    \"\"\"Return a list of ratings that can be used as a testset in the\n",
    "    :meth:`test() <surprise.prediction_algorithms.algo_base.AlgoBase.test>`\n",
    "    method.\n",
    "    \"\"\"\n",
    "    alldata = []\n",
    "    for i in range(len(user_ids)):\n",
    "        for j in range(self.n_items):\n",
    "            alldata.append((self.to_raw_uid(i),self.to_raw_iid(j),0))\n",
    "    return alldata"
   ]
  },
  {
   "cell_type": "code",
   "execution_count": null,
   "metadata": {
    "collapsed": true
   },
   "outputs": [],
   "source": [
    "# build a list to do the recommendation for user_ids\n",
    "user_ids = [0]\n",
    "userdata = build_data_for_prediction(trainset, user_ids)\n",
    "\n",
    "predictions = algo.test(userdata[0:len(user_ids)], clip=False)\n",
    "rec_list = evaluation.get_items_greater_threshold(predictions, -0.1)"
   ]
  },
  {
   "cell_type": "code",
   "execution_count": null,
   "metadata": {
    "collapsed": true
   },
   "outputs": [],
   "source": [
    "# list of papers that recommend to user_id = 0\n",
    "rec_list"
   ]
  },
  {
   "cell_type": "markdown",
   "metadata": {},
   "source": [
    "## Precision and Recall"
   ]
  },
  {
   "cell_type": "code",
   "execution_count": 5,
   "metadata": {
    "collapsed": true
   },
   "outputs": [],
   "source": [
    "algo = SVD(biased=False, n_epochs = 300, n_factors = 100, reg_all=1)\n",
    "algo.fit(trainset)\n",
    "\n",
    "user_ids = list(testdict.keys())\n",
    "user_est_true = evaluation.prediction_for_userids(algo, trainset, testdict, user_ids)"
   ]
  },
  {
   "cell_type": "code",
   "execution_count": 4,
   "metadata": {},
   "outputs": [
    {
     "name": "stdout",
     "output_type": "stream",
     "text": [
      "threshold =  -3.0 0.0208955223881 0.0934434968017 0.0341537069895\n",
      "threshold =  -2.93939393939 0.0208955223881 0.0934434968017 0.0341537069895\n",
      "threshold =  -2.87878787879 0.0208955223881 0.0934434968017 0.0341537069895\n",
      "threshold =  -2.81818181818 0.0208955223881 0.0934434968017 0.0341537069895\n",
      "threshold =  -2.75757575758 0.0208955223881 0.0934434968017 0.0341537069895\n",
      "threshold =  -2.69696969697 0.0208955223881 0.0934434968017 0.0341537069895\n",
      "threshold =  -2.63636363636 0.0208955223881 0.0934434968017 0.0341537069895\n",
      "threshold =  -2.57575757576 0.0208955223881 0.0934434968017 0.0341537069895\n",
      "threshold =  -2.51515151515 0.0208955223881 0.0934434968017 0.0341537069895\n",
      "threshold =  -2.45454545455 0.0208955223881 0.0934434968017 0.0341537069895\n",
      "threshold =  -2.39393939394 0.0208955223881 0.0934434968017 0.0341537069895\n",
      "threshold =  -2.33333333333 0.0208955223881 0.0934434968017 0.0341537069895\n",
      "threshold =  -2.27272727273 0.0208955223881 0.0934434968017 0.0341537069895\n",
      "threshold =  -2.21212121212 0.0208955223881 0.0934434968017 0.0341537069895\n",
      "threshold =  -2.15151515152 0.0208955223881 0.0934434968017 0.0341537069895\n",
      "threshold =  -2.09090909091 0.0208955223881 0.0934434968017 0.0341537069895\n",
      "threshold =  -2.0303030303 0.0208955223881 0.0934434968017 0.0341537069895\n",
      "threshold =  -1.9696969697 0.0208955223881 0.0934434968017 0.0341537069895\n",
      "threshold =  -1.90909090909 0.0208955223881 0.0934434968017 0.0341537069895\n",
      "threshold =  -1.84848484848 0.0208955223881 0.0934434968017 0.0341537069895\n",
      "threshold =  -1.78787878788 0.0208955223881 0.0934434968017 0.0341537069895\n",
      "threshold =  -1.72727272727 0.0208955223881 0.0934434968017 0.0341537069895\n",
      "threshold =  -1.66666666667 0.0208955223881 0.0934434968017 0.0341537069895\n",
      "threshold =  -1.60606060606 0.0208955223881 0.0934434968017 0.0341537069895\n",
      "threshold =  -1.54545454545 0.0208955223881 0.0934434968017 0.0341537069895\n",
      "threshold =  -1.48484848485 0.0208955223881 0.0934434968017 0.0341537069895\n",
      "threshold =  -1.42424242424 0.0208955223881 0.0934434968017 0.0341537069895\n",
      "threshold =  -1.36363636364 0.0208955223881 0.0934434968017 0.0341537069895\n",
      "threshold =  -1.30303030303 0.0208955223881 0.0934434968017 0.0341537069895\n",
      "threshold =  -1.24242424242 0.0208955223881 0.0934434968017 0.0341537069895\n",
      "threshold =  -1.18181818182 0.0208955223881 0.0934434968017 0.0341537069895\n",
      "threshold =  -1.12121212121 0.0208955223881 0.0934434968017 0.0341537069895\n",
      "threshold =  -1.06060606061 0.0208955223881 0.0934434968017 0.0341537069895\n",
      "threshold =  -1.0 0.0208955223881 0.0934434968017 0.0341537069895\n",
      "threshold =  -0.939393939394 0.0208955223881 0.0934434968017 0.0341537069895\n",
      "threshold =  -0.878787878788 0.0208955223881 0.0934434968017 0.0341537069895\n",
      "threshold =  -0.818181818182 0.0208955223881 0.0934434968017 0.0341537069895\n",
      "threshold =  -0.757575757576 0.0209784411277 0.0934434968017 0.0342643890131\n",
      "threshold =  -0.69696969697 0.167395167022 0.0859808102345 0.113608024294\n",
      "threshold =  -0.636363636364 0.76039445629 0.0859808102345 0.154492537851\n",
      "threshold =  -0.575757575758 0.849946695096 0.0827825159915 0.150870638643\n",
      "threshold =  -0.515151515152 0.849946695096 0.0817164179104 0.14909809859\n",
      "threshold =  -0.454545454545 0.849946695096 0.0794776119403 0.145362528377\n",
      "threshold =  -0.393939393939 0.873756218905 0.0720149253731 0.133062822395\n",
      "threshold =  -0.333333333333 0.910447761194 0.047263681592 0.0898623764295\n",
      "threshold =  -0.272727272727 0.955223880597 0.0174129353234 0.0342023895866\n",
      "threshold =  -0.212121212121 0.992537313433 0.00373134328358 0.00743473643021\n",
      "threshold =  -0.151515151515 1.0 0.0 0.0\n",
      "threshold =  -0.0909090909091 1.0 0.0 0.0\n",
      "threshold =  -0.030303030303 1.0 0.0 0.0\n",
      "threshold =  0.030303030303 1.0 0.0 0.0\n",
      "threshold =  0.0909090909091 1.0 0.0 0.0\n",
      "threshold =  0.151515151515 1.0 0.0 0.0\n",
      "threshold =  0.212121212121 1.0 0.0 0.0\n",
      "threshold =  0.272727272727 1.0 0.0 0.0\n",
      "threshold =  0.333333333333 1.0 0.0 0.0\n",
      "threshold =  0.393939393939 1.0 0.0 0.0\n",
      "threshold =  0.454545454545 1.0 0.0 0.0\n",
      "threshold =  0.515151515152 1.0 0.0 0.0\n",
      "threshold =  0.575757575758 1.0 0.0 0.0\n",
      "threshold =  0.636363636364 1.0 0.0 0.0\n",
      "threshold =  0.69696969697 1.0 0.0 0.0\n",
      "threshold =  0.757575757576 1.0 0.0 0.0\n",
      "threshold =  0.818181818182 1.0 0.0 0.0\n",
      "threshold =  0.878787878788 1.0 0.0 0.0\n",
      "threshold =  0.939393939394 1.0 0.0 0.0\n",
      "threshold =  1.0 1.0 0.0 0.0\n",
      "threshold =  1.06060606061 1.0 0.0 0.0\n",
      "threshold =  1.12121212121 1.0 0.0 0.0\n",
      "threshold =  1.18181818182 1.0 0.0 0.0\n",
      "threshold =  1.24242424242 1.0 0.0 0.0\n",
      "threshold =  1.30303030303 1.0 0.0 0.0\n",
      "threshold =  1.36363636364 1.0 0.0 0.0\n",
      "threshold =  1.42424242424 1.0 0.0 0.0\n",
      "threshold =  1.48484848485 1.0 0.0 0.0\n",
      "threshold =  1.54545454545 1.0 0.0 0.0\n",
      "threshold =  1.60606060606 1.0 0.0 0.0\n",
      "threshold =  1.66666666667 1.0 0.0 0.0\n",
      "threshold =  1.72727272727 1.0 0.0 0.0\n",
      "threshold =  1.78787878788 1.0 0.0 0.0\n",
      "threshold =  1.84848484848 1.0 0.0 0.0\n",
      "threshold =  1.90909090909 1.0 0.0 0.0\n",
      "threshold =  1.9696969697 1.0 0.0 0.0\n",
      "threshold =  2.0303030303 1.0 0.0 0.0\n",
      "threshold =  2.09090909091 1.0 0.0 0.0\n",
      "threshold =  2.15151515152 1.0 0.0 0.0\n",
      "threshold =  2.21212121212 1.0 0.0 0.0\n",
      "threshold =  2.27272727273 1.0 0.0 0.0\n",
      "threshold =  2.33333333333 1.0 0.0 0.0\n",
      "threshold =  2.39393939394 1.0 0.0 0.0\n",
      "threshold =  2.45454545455 1.0 0.0 0.0\n",
      "threshold =  2.51515151515 1.0 0.0 0.0\n",
      "threshold =  2.57575757576 1.0 0.0 0.0\n",
      "threshold =  2.63636363636 1.0 0.0 0.0\n",
      "threshold =  2.69696969697 1.0 0.0 0.0\n",
      "threshold =  2.75757575758 1.0 0.0 0.0\n",
      "threshold =  2.81818181818 1.0 0.0 0.0\n",
      "threshold =  2.87878787879 1.0 0.0 0.0\n",
      "threshold =  2.93939393939 1.0 0.0 0.0\n",
      "threshold =  3.0 1.0 0.0 0.0\n"
     ]
    }
   ],
   "source": [
    "thresholds = np.linspace(-3,3,100)\n",
    "precision = np.zeros(len(thresholds))\n",
    "recall = np.zeros(len(thresholds))\n",
    "f1 = np.zeros(len(thresholds))\n",
    "\n",
    "for t,threshold in enumerate(thresholds):\n",
    "#     tt = time.time()\n",
    "    precisions, recalls = evaluation.precision_recall_at_k(user_est_true, testdict, k=10, threshold=threshold)\n",
    "    precision[t] = sum(prec for prec in precisions.values()) / len(precisions)\n",
    "    recall[t] = sum(rec for rec in recalls.values()) / len(recalls)\n",
    "    f1[t] = 2*(precision[t]*recall[t])/(precision[t]+recall[t])\n",
    "#     elapsed_time = time.time() - tt\n",
    "    print('threshold = ', threshold, precision[t], recall[t], f1[t])\n",
    "#     print(precision_hist[t])"
   ]
  },
  {
   "cell_type": "code",
   "execution_count": 5,
   "metadata": {},
   "outputs": [
    {
     "data": {
      "text/plain": [
       "[<matplotlib.lines.Line2D at 0x10e9d2b70>]"
      ]
     },
     "execution_count": 5,
     "metadata": {},
     "output_type": "execute_result"
    },
    {
     "data": {
      "image/png": "[encoded data removed]",
      "text/plain": [
       "<matplotlib.figure.Figure at 0x10ecee9b0>"
      ]
     },
     "metadata": {},
     "output_type": "display_data"
    }
   ],
   "source": [
    "plt.plot(thresholds,recall)"
   ]
  },
  {
   "cell_type": "code",
   "execution_count": 8,
   "metadata": {},
   "outputs": [
    {
     "data": {
      "image/png": "[encoded data removed]",
      "text/plain": [
       "<matplotlib.figure.Figure at 0x10ba9a080>"
      ]
     },
     "metadata": {},
     "output_type": "display_data"
    }
   ],
   "source": [
    "# plt.plot(recall,precision, '-o')\n",
    "fig, axes = plt.subplots(1,1,figsize=(8,6))\n",
    "axes.step(recall,precision,'-o',where='post')\n",
    "axes.fill_between(recall, precision, step='post', alpha=0.2,color='b')\n",
    "axes.set_xlabel('recall')\n",
    "axes.set_ylabel('precision')\n",
    "fig.savefig('svd_p_r.png')"
   ]
  },
  {
   "cell_type": "code",
   "execution_count": 9,
   "metadata": {},
   "outputs": [
    {
     "data": {
      "image/png": "[encoded data removed]",
      "text/plain": [
       "<matplotlib.figure.Figure at 0x10b7bdfd0>"
      ]
     },
     "metadata": {},
     "output_type": "display_data"
    }
   ],
   "source": [
    "fig, axes = plt.subplots(1,1,figsize=(8,6))\n",
    "axes.plot(thresholds,f1,'-o', label='SVD biased')\n",
    "axes.set_xlabel('threshold')\n",
    "axes.set_ylabel('f1')\n",
    "axes.legend()\n",
    "fig.savefig('svd_f1.png')"
   ]
  },
  {
   "cell_type": "markdown",
   "metadata": {
    "collapsed": true
   },
   "source": [
    "## Aggregate Diversity"
   ]
  },
  {
   "cell_type": "code",
   "execution_count": 6,
   "metadata": {
    "collapsed": true
   },
   "outputs": [],
   "source": [
    "def create_userids_iid_est_dict(algo, trainset, testdic, userids):\n",
    "    user_iid_est = defaultdict(list)\n",
    "    for u in userids:\n",
    "        u_numid = trainset.to_inner_uid(u)\n",
    "        user_items = set([j for (j, _) in trainset.ur[u_numid]])\n",
    "        user_iid_est[u] = []\n",
    "        for i in trainset.all_items():\n",
    "            if i not in user_items :\n",
    "                if trainset.to_raw_iid(i) in testdic[u]:\n",
    "                    user_iid_est[u].append((trainset.to_raw_iid(i), algo.estimate(u_numid,i)-algo.trainset.offset))\n",
    "                else:\n",
    "                    user_iid_est[u].append((trainset.to_raw_iid(i), algo.estimate(u_numid,i)-algo.trainset.offset))\n",
    "    return user_iid_est"
   ]
  },
  {
   "cell_type": "code",
   "execution_count": 7,
   "metadata": {
    "collapsed": true
   },
   "outputs": [],
   "source": [
    "user_iid_est = create_userids_iid_est_dict(algo, trainset, testdict, user_ids)"
   ]
  },
  {
   "cell_type": "code",
   "execution_count": 8,
   "metadata": {
    "collapsed": true
   },
   "outputs": [],
   "source": [
    "# user_ratings_greater_threshold.sort(key=lambda x: x[0], reverse=True)\n",
    "k = 10\n",
    "rec_dict = dict()\n",
    "for key in user_iid_est.keys():\n",
    "    user_iid_est[key].sort(key=lambda x: x[1], reverse=True)\n",
    "    rec_dict[key] = [iid for (iid,value) in user_iid_est[key][0:k]]\n",
    "# user_iid_est['9753c508-20e1-4f9b-baf4-f0c49008dcbc'].sort(key=lambda x: x[1], reverse=True)[0:k]"
   ]
  },
  {
   "cell_type": "code",
   "execution_count": 9,
   "metadata": {},
   "outputs": [
    {
     "data": {
      "text/plain": [
       "[('d420ec32-539c-4765-9ec8-719889faaf86', -0.67270445101934717),\n",
       " ('48861319-449c-4dbf-affb-8976d7608748', -0.69016993879163735),\n",
       " ('978efa8a-b62a-4e76-a2a1-c3a7af5e1a60', -0.71665911016000949),\n",
       " ('fdfbfd87-0810-4825-916f-f19c682495bd', -0.71718557035317088),\n",
       " ('9146a463-a29f-43f1-a489-327d3fe7c70a', -0.71788584988551141),\n",
       " ('e6293cf6-06cb-4b81-bb92-17ceb6069d31', -0.72520844276518193),\n",
       " ('5db703f1-700a-43a7-bec2-65fa309eec33', -0.72945364231979415),\n",
       " ('64236d67-2106-4814-98e2-3de4957e39c2', -0.73081461859371677),\n",
       " ('f4ee5e5e-41ba-424f-93a2-c0b6560c1890', -0.73137008934848469),\n",
       " ('cb212f53-e76c-45e3-8d2c-e3fbb1c6b5c0', -0.73381512472587618)]"
      ]
     },
     "execution_count": 9,
     "metadata": {},
     "output_type": "execute_result"
    }
   ],
   "source": [
    "user_iid_est['9753c508-20e1-4f9b-baf4-f0c49008dcbc'][0:10]"
   ]
  },
  {
   "cell_type": "code",
   "execution_count": 10,
   "metadata": {},
   "outputs": [
    {
     "data": {
      "text/plain": [
       "['d420ec32-539c-4765-9ec8-719889faaf86',\n",
       " '48861319-449c-4dbf-affb-8976d7608748',\n",
       " '978efa8a-b62a-4e76-a2a1-c3a7af5e1a60',\n",
       " 'fdfbfd87-0810-4825-916f-f19c682495bd',\n",
       " '9146a463-a29f-43f1-a489-327d3fe7c70a',\n",
       " 'e6293cf6-06cb-4b81-bb92-17ceb6069d31',\n",
       " '5db703f1-700a-43a7-bec2-65fa309eec33',\n",
       " '64236d67-2106-4814-98e2-3de4957e39c2',\n",
       " 'f4ee5e5e-41ba-424f-93a2-c0b6560c1890',\n",
       " 'cb212f53-e76c-45e3-8d2c-e3fbb1c6b5c0']"
      ]
     },
     "execution_count": 10,
     "metadata": {},
     "output_type": "execute_result"
    }
   ],
   "source": [
    "rec_dict['9753c508-20e1-4f9b-baf4-f0c49008dcbc']"
   ]
  },
  {
   "cell_type": "code",
   "execution_count": 11,
   "metadata": {
    "collapsed": true
   },
   "outputs": [],
   "source": [
    "test = utils.invert_dict(rec_dict)"
   ]
  },
  {
   "cell_type": "code",
   "execution_count": 13,
   "metadata": {},
   "outputs": [
    {
     "data": {
      "text/plain": [
       "['9753c508-20e1-4f9b-baf4-f0c49008dcbc',\n",
       " '59c62c71-1bfc-425e-82f5-b5962b4349a5']"
      ]
     },
     "execution_count": 13,
     "metadata": {},
     "output_type": "execute_result"
    }
   ],
   "source": [
    "test['d420ec32-539c-4765-9ec8-719889faaf86']"
   ]
  },
  {
   "cell_type": "code",
   "execution_count": 14,
   "metadata": {},
   "outputs": [
    {
     "data": {
      "text/plain": [
       "939"
      ]
     },
     "execution_count": 14,
     "metadata": {},
     "output_type": "execute_result"
    }
   ],
   "source": [
    "# Diversity\n",
    "len(test.keys())"
   ]
  },
  {
   "cell_type": "code",
   "execution_count": null,
   "metadata": {
    "collapsed": true
   },
   "outputs": [],
   "source": []
  }
 ],
 "metadata": {
  "kernelspec": {
   "display_name": "Python 3",
   "language": "python",
   "name": "python3"
  },
  "language_info": {
   "codemirror_mode": {
    "name": "ipython",
    "version": 3
   },
   "file_extension": ".py",
   "mimetype": "text/x-python",
   "name": "python",
   "nbconvert_exporter": "python",
   "pygments_lexer": "ipython3",
   "version": "3.6.3"
  }
 },
 "nbformat": 4,
 "nbformat_minor": 2
}
