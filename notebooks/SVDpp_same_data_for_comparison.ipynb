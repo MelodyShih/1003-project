{
 "cells": [
  {
   "cell_type": "code",
   "execution_count": 1,
   "metadata": {
    "collapsed": true
   },
   "outputs": [],
   "source": [
    "import random\n",
    "import pandas as pd\n",
    "import json\n",
    "import numpy as np\n",
    "import scipy.sparse as sp\n",
    "import time\n",
    "from collections import defaultdict\n",
    "\n",
    "import matplotlib.pyplot as plt\n",
    "%matplotlib inline\n",
    "\n",
    "from matplotlib import rc\n",
    "rc('figure', figsize=(16, 8), max_open_warning=False)\n",
    "\n",
    "from surprise import SVDpp\n",
    "from surprise import Dataset, Reader\n",
    "from surprise import accuracy\n",
    "from surprise.model_selection import train_test_split\n",
    "\n",
    "import sys\n",
    "sys.path.insert(0, '../src')\n",
    "\n",
    "import preprocess\n",
    "import evaluation\n",
    "import utils"
   ]
  },
  {
   "cell_type": "code",
   "execution_count": 2,
   "metadata": {
    "collapsed": true
   },
   "outputs": [],
   "source": [
    "def create_surprise_paper_paper_data_from_tsv(datafilename,datadir=\"../dblp-ref/4fold\"):\n",
    "    itemList, userList, ratingList = [], [], []\n",
    "\n",
    "    df = pd.read_table(datadir+\"/\"+datafilename,\n",
    "                       usecols=[0, 1, 2],\n",
    "                       names=['userID', 'itemID', 'rating'],\n",
    "                       na_filter=False)\n",
    "    reader = Reader(rating_scale=(0,1))\n",
    "\n",
    "    data = Dataset.load_from_df(df[['userID', 'itemID', 'rating']], reader)\n",
    "\n",
    "    return data"
   ]
  },
  {
   "cell_type": "code",
   "execution_count": 3,
   "metadata": {
    "collapsed": true
   },
   "outputs": [],
   "source": [
    "train1 = create_surprise_paper_paper_data_from_tsv(\"4fold_0_train.tsv\").build_full_trainset()\n",
    "temp   = create_surprise_paper_paper_data_from_tsv(\"4fold_0_val.tsv\"  ).build_full_trainset()\n",
    "test1  = temp.build_testset()\n",
    "trainest1 = train1.build_testset()\n",
    "\n",
    "# train2 = create_surprise_paper_paper_data_from_tsv(\"4fold_1_train.tsv\").build_full_trainset()\n",
    "# temp   = create_surprise_paper_paper_data_from_tsv(\"4fold_1_val.tsv\"  ).build_full_trainset()\n",
    "# test2  = temp.build_testset()\n",
    "# trainest2 = train2.build_testset()\n",
    "\n",
    "# train3 = create_surprise_paper_paper_data_from_tsv(\"4fold_2_train.tsv\").build_full_trainset()\n",
    "# temp   = create_surprise_paper_paper_data_from_tsv(\"4fold_2_val.tsv\"  ).build_full_trainset()\n",
    "# test3  = temp.build_testset()\n",
    "# trainest3 = train3.build_testset()\n",
    "\n",
    "# train4 = create_surprise_paper_paper_data_from_tsv(\"4fold_3_train.tsv\").build_full_trainset()\n",
    "# temp   = create_surprise_paper_paper_data_from_tsv(\"4fold_3_val.tsv\"  ).build_full_trainset()\n",
    "# test4  = temp.build_testset()\n",
    "# trainest4 = train4.build_testset()"
   ]
  },
  {
   "cell_type": "code",
   "execution_count": 4,
   "metadata": {
    "collapsed": true
   },
   "outputs": [],
   "source": [
    "temp   = create_surprise_paper_paper_data_from_tsv(\"4fold_test.tsv\"  ).build_full_trainset()\n",
    "testset  = temp.build_testset()"
   ]
  },
  {
   "cell_type": "code",
   "execution_count": 5,
   "metadata": {
    "collapsed": true
   },
   "outputs": [],
   "source": [
    "def create_test_dict(test):\n",
    "    result = dict()\n",
    "\n",
    "    for uid, iid, _ in test:\n",
    "        try:\n",
    "            result[uid].append(iid)\n",
    "        except KeyError:\n",
    "            result[uid] = []\n",
    "            result[uid].append(iid)\n",
    "    return result"
   ]
  },
  {
   "cell_type": "code",
   "execution_count": 6,
   "metadata": {},
   "outputs": [
    {
     "name": "stdout",
     "output_type": "stream",
     "text": [
      "[241938, 740203, 744868, 256846, 2922123, 817737, 1924513, 1959644, 1152971, 2132413, 1242685, 1322702, 2582776, 1335588, 2352216, 2586714, 1735454, 604321, 1250172, 2174926, 2920322, 1381601, 2159596, 2575595, 809794]\n"
     ]
    }
   ],
   "source": [
    "train1dic = create_test_dict(trainest1)\n",
    "print(train1dic[3020287])"
   ]
  },
  {
   "cell_type": "code",
   "execution_count": 67,
   "metadata": {},
   "outputs": [
    {
     "name": "stdout",
     "output_type": "stream",
     "text": [
      " processing epoch 0\n",
      " processing epoch 1\n",
      " processing epoch 2\n",
      " processing epoch 3\n",
      " processing epoch 4\n",
      " processing epoch 5\n",
      " processing epoch 6\n",
      " processing epoch 7\n",
      " processing epoch 8\n",
      " processing epoch 9\n",
      " processing epoch 10\n",
      " processing epoch 11\n",
      " processing epoch 12\n",
      " processing epoch 13\n",
      " processing epoch 14\n",
      " processing epoch 15\n",
      " processing epoch 16\n",
      " processing epoch 17\n",
      " processing epoch 18\n",
      " processing epoch 19\n",
      " processing epoch 20\n",
      " processing epoch 21\n",
      " processing epoch 22\n",
      " processing epoch 23\n",
      " processing epoch 24\n",
      " processing epoch 25\n",
      " processing epoch 26\n",
      " processing epoch 27\n",
      " processing epoch 28\n",
      " processing epoch 29\n",
      " processing epoch 30\n",
      " processing epoch 31\n",
      " processing epoch 32\n",
      " processing epoch 33\n",
      " processing epoch 34\n",
      " processing epoch 35\n",
      " processing epoch 36\n",
      " processing epoch 37\n",
      " processing epoch 38\n",
      " processing epoch 39\n",
      "RMSE: 1.4824\n",
      "RMSE: 0.6028\n",
      "1.48236168801 time =  327.365803957\n",
      " processing epoch 0\n",
      " processing epoch 1\n",
      " processing epoch 2\n",
      " processing epoch 3\n",
      " processing epoch 4\n",
      " processing epoch 5\n",
      " processing epoch 6\n",
      " processing epoch 7\n",
      " processing epoch 8\n",
      " processing epoch 9\n",
      " processing epoch 10\n",
      " processing epoch 11\n",
      " processing epoch 12\n",
      " processing epoch 13\n",
      " processing epoch 14\n",
      " processing epoch 15\n",
      " processing epoch 16\n",
      " processing epoch 17\n",
      " processing epoch 18\n",
      " processing epoch 19\n",
      " processing epoch 20\n",
      " processing epoch 21\n",
      " processing epoch 22\n",
      " processing epoch 23\n",
      " processing epoch 24\n",
      " processing epoch 25\n",
      " processing epoch 26\n",
      " processing epoch 27\n",
      " processing epoch 28\n",
      " processing epoch 29\n",
      " processing epoch 30\n",
      " processing epoch 31\n",
      " processing epoch 32\n",
      " processing epoch 33\n",
      " processing epoch 34\n",
      " processing epoch 35\n",
      " processing epoch 36\n",
      " processing epoch 37\n",
      " processing epoch 38\n",
      " processing epoch 39\n",
      "RMSE: 1.6289\n",
      "RMSE: 0.2488\n",
      "1.62885331805 time =  662.346951962\n",
      " processing epoch 0\n",
      " processing epoch 1\n",
      " processing epoch 2\n",
      " processing epoch 3\n",
      " processing epoch 4\n",
      " processing epoch 5\n",
      " processing epoch 6\n",
      " processing epoch 7\n",
      " processing epoch 8\n",
      " processing epoch 9\n",
      " processing epoch 10\n",
      " processing epoch 11\n",
      " processing epoch 12\n",
      " processing epoch 13\n",
      " processing epoch 14\n",
      " processing epoch 15\n",
      " processing epoch 16\n",
      " processing epoch 17\n",
      " processing epoch 18\n",
      " processing epoch 19\n",
      " processing epoch 20\n",
      " processing epoch 21\n",
      " processing epoch 22\n",
      " processing epoch 23\n",
      " processing epoch 24\n",
      " processing epoch 25\n",
      " processing epoch 26\n",
      " processing epoch 27\n",
      " processing epoch 28\n",
      " processing epoch 29\n",
      " processing epoch 30\n",
      " processing epoch 31\n",
      " processing epoch 32\n",
      " processing epoch 33\n",
      " processing epoch 34\n",
      " processing epoch 35\n",
      " processing epoch 36\n",
      " processing epoch 37\n",
      " processing epoch 38\n",
      " processing epoch 39\n",
      "RMSE: 1.7025\n",
      "RMSE: 0.1412\n",
      "1.702539476 time =  1069.85512614\n",
      " processing epoch 0\n",
      " processing epoch 1\n",
      " processing epoch 2\n",
      " processing epoch 3\n",
      " processing epoch 4\n",
      " processing epoch 5\n",
      " processing epoch 6\n",
      " processing epoch 7\n",
      " processing epoch 8\n",
      " processing epoch 9\n",
      " processing epoch 10\n",
      " processing epoch 11\n",
      " processing epoch 12\n",
      " processing epoch 13\n",
      " processing epoch 14\n",
      " processing epoch 15\n",
      " processing epoch 16\n",
      " processing epoch 17\n",
      " processing epoch 18\n",
      " processing epoch 19\n",
      " processing epoch 20\n",
      " processing epoch 21\n",
      " processing epoch 22\n",
      " processing epoch 23\n",
      " processing epoch 24\n",
      " processing epoch 25\n",
      " processing epoch 26\n",
      " processing epoch 27\n",
      " processing epoch 28\n",
      " processing epoch 29\n",
      " processing epoch 30\n",
      " processing epoch 31\n",
      " processing epoch 32\n",
      " processing epoch 33\n",
      " processing epoch 34\n",
      " processing epoch 35\n",
      " processing epoch 36\n",
      " processing epoch 37\n",
      " processing epoch 38\n",
      " processing epoch 39\n",
      "RMSE: 1.7497\n",
      "RMSE: 0.0959\n",
      "1.74966157706 time =  1506.36624694\n"
     ]
    }
   ],
   "source": [
    "factors_to_try = [10,50,100,150]\n",
    "rmse_train = np.zeros(len(factors_to_try))\n",
    "rmse_test = np.zeros(len(factors_to_try))\n",
    "elapsed_time = np.zeros(len(factors_to_try))\n",
    "\n",
    "for i in range(len(factors_to_try)):\n",
    "    nfactors = factors_to_try[i]\n",
    "    \n",
    "    t = time.time()\n",
    "    # First fold\n",
    "    algo = SVDpp(biased=False,n_epochs = 40,n_factors = nfactors,verbose=True)\n",
    "    algo.fit(train1)\n",
    "    testpredictions  = algo.test(test1, clip=False)\n",
    "    trainpredictions  = algo.test(trainest1, clip=False)\n",
    "    \n",
    "    rmse_test[i]  = accuracy.rmse(testpredictions )\n",
    "    rmse_train[i] = accuracy.rmse(trainpredictions)\n",
    "    \n",
    "    elapsed_time[i] = time.time() - t\n",
    "    print(rmse_test[i], 'time = ', elapsed_time[i])"
   ]
  },
  {
   "cell_type": "code",
   "execution_count": 68,
   "metadata": {},
   "outputs": [
    {
     "data": {
      "image/png": "[encoded data removed]",
      "text/plain": [
       "<matplotlib.figure.Figure at 0x13db4a208>"
      ]
     },
     "metadata": {},
     "output_type": "display_data"
    }
   ],
   "source": [
    "fig, axes = plt.subplots(1,1,figsize=(9,6))\n",
    "\n",
    "axes.plot(factors_to_try, rmse_test,  '-*', label=\"Validation\")\n",
    "axes.plot(factors_to_try, rmse_train, '-*', label=\"Train\")\n",
    "axes.set_title('Effect of nfactors')\n",
    "axes.set_xlabel('number of factors')\n",
    "axes.set_ylabel('rmse')\n",
    "axes.legend()\n",
    "fig.savefig('svdpp_rmse_nfactors.eps')\n",
    "\n",
    "# fig, axes = plt.subplots(1,1,figsize=(9,6))\n",
    "\n",
    "# axes.plot(factors_to_try, rmse_train,  '-*', label=\"train\")\n",
    "# axes.set_title('Effect of nfactors')\n",
    "# axes.set_xlabel('number of factors')\n",
    "# axes.set_ylabel('rmse')\n",
    "# axes.legend()\n",
    "# fig.savefig('svd_rmse_nfactors_train.eps')"
   ]
  },
  {
   "cell_type": "code",
   "execution_count": 69,
   "metadata": {},
   "outputs": [
    {
     "name": "stdout",
     "output_type": "stream",
     "text": [
      " processing epoch 0\n",
      " processing epoch 1\n",
      " processing epoch 2\n",
      " processing epoch 3\n",
      " processing epoch 4\n",
      " processing epoch 5\n",
      " processing epoch 6\n",
      " processing epoch 7\n",
      " processing epoch 8\n",
      " processing epoch 9\n",
      " processing epoch 10\n",
      " processing epoch 11\n",
      " processing epoch 12\n",
      " processing epoch 13\n",
      " processing epoch 14\n",
      " processing epoch 15\n",
      " processing epoch 16\n",
      " processing epoch 17\n",
      " processing epoch 18\n",
      " processing epoch 19\n",
      " processing epoch 20\n",
      " processing epoch 21\n",
      " processing epoch 22\n",
      " processing epoch 23\n",
      " processing epoch 24\n",
      " processing epoch 25\n",
      " processing epoch 26\n",
      " processing epoch 27\n",
      " processing epoch 28\n",
      " processing epoch 29\n",
      " processing epoch 30\n",
      " processing epoch 31\n",
      " processing epoch 32\n",
      " processing epoch 33\n",
      " processing epoch 34\n",
      " processing epoch 35\n",
      " processing epoch 36\n",
      " processing epoch 37\n",
      " processing epoch 38\n",
      " processing epoch 39\n",
      "RMSE: 0.5542\n",
      "RMSE: 1.4802\n",
      "1e-06 0.554166549638 1.48019698305 time =  326.726266146\n",
      " processing epoch 0\n",
      " processing epoch 1\n",
      " processing epoch 2\n",
      " processing epoch 3\n",
      " processing epoch 4\n",
      " processing epoch 5\n",
      " processing epoch 6\n",
      " processing epoch 7\n",
      " processing epoch 8\n",
      " processing epoch 9\n",
      " processing epoch 10\n",
      " processing epoch 11\n",
      " processing epoch 12\n",
      " processing epoch 13\n",
      " processing epoch 14\n",
      " processing epoch 15\n",
      " processing epoch 16\n",
      " processing epoch 17\n",
      " processing epoch 18\n",
      " processing epoch 19\n",
      " processing epoch 20\n",
      " processing epoch 21\n",
      " processing epoch 22\n",
      " processing epoch 23\n",
      " processing epoch 24\n",
      " processing epoch 25\n",
      " processing epoch 26\n",
      " processing epoch 27\n",
      " processing epoch 28\n",
      " processing epoch 29\n",
      " processing epoch 30\n",
      " processing epoch 31\n",
      " processing epoch 32\n",
      " processing epoch 33\n",
      " processing epoch 34\n",
      " processing epoch 35\n",
      " processing epoch 36\n",
      " processing epoch 37\n",
      " processing epoch 38\n",
      " processing epoch 39\n",
      "RMSE: 0.5567\n",
      "RMSE: 1.5180\n",
      "1e-05 0.556690542038 1.51804124791 time =  318.341609001\n",
      " processing epoch 0\n",
      " processing epoch 1\n",
      " processing epoch 2\n",
      " processing epoch 3\n",
      " processing epoch 4\n",
      " processing epoch 5\n",
      " processing epoch 6\n",
      " processing epoch 7\n",
      " processing epoch 8\n",
      " processing epoch 9\n",
      " processing epoch 10\n",
      " processing epoch 11\n",
      " processing epoch 12\n",
      " processing epoch 13\n",
      " processing epoch 14\n",
      " processing epoch 15\n",
      " processing epoch 16\n",
      " processing epoch 17\n",
      " processing epoch 18\n",
      " processing epoch 19\n",
      " processing epoch 20\n",
      " processing epoch 21\n",
      " processing epoch 22\n",
      " processing epoch 23\n",
      " processing epoch 24\n",
      " processing epoch 25\n",
      " processing epoch 26\n",
      " processing epoch 27\n",
      " processing epoch 28\n",
      " processing epoch 29\n",
      " processing epoch 30\n",
      " processing epoch 31\n",
      " processing epoch 32\n",
      " processing epoch 33\n",
      " processing epoch 34\n",
      " processing epoch 35\n",
      " processing epoch 36\n",
      " processing epoch 37\n",
      " processing epoch 38\n",
      " processing epoch 39\n",
      "RMSE: 0.5570\n",
      "RMSE: 1.5049\n",
      "0.0001 0.556987002658 1.50491319915 time =  310.80088377\n",
      " processing epoch 0\n",
      " processing epoch 1\n",
      " processing epoch 2\n",
      " processing epoch 3\n",
      " processing epoch 4\n",
      " processing epoch 5\n",
      " processing epoch 6\n",
      " processing epoch 7\n",
      " processing epoch 8\n",
      " processing epoch 9\n",
      " processing epoch 10\n",
      " processing epoch 11\n",
      " processing epoch 12\n",
      " processing epoch 13\n",
      " processing epoch 14\n",
      " processing epoch 15\n",
      " processing epoch 16\n",
      " processing epoch 17\n",
      " processing epoch 18\n",
      " processing epoch 19\n",
      " processing epoch 20\n",
      " processing epoch 21\n",
      " processing epoch 22\n",
      " processing epoch 23\n",
      " processing epoch 24\n",
      " processing epoch 25\n",
      " processing epoch 26\n",
      " processing epoch 27\n",
      " processing epoch 28\n",
      " processing epoch 29\n",
      " processing epoch 30\n",
      " processing epoch 31\n",
      " processing epoch 32\n",
      " processing epoch 33\n",
      " processing epoch 34\n",
      " processing epoch 35\n",
      " processing epoch 36\n",
      " processing epoch 37\n",
      " processing epoch 38\n",
      " processing epoch 39\n",
      "RMSE: 0.5588\n",
      "RMSE: 1.4900\n",
      "0.001 0.558796451998 1.49001013626 time =  327.285405159\n",
      " processing epoch 0\n",
      " processing epoch 1\n",
      " processing epoch 2\n",
      " processing epoch 3\n",
      " processing epoch 4\n",
      " processing epoch 5\n",
      " processing epoch 6\n",
      " processing epoch 7\n",
      " processing epoch 8\n",
      " processing epoch 9\n",
      " processing epoch 10\n",
      " processing epoch 11\n",
      " processing epoch 12\n",
      " processing epoch 13\n",
      " processing epoch 14\n",
      " processing epoch 15\n",
      " processing epoch 16\n",
      " processing epoch 17\n",
      " processing epoch 18\n",
      " processing epoch 19\n",
      " processing epoch 20\n",
      " processing epoch 21\n",
      " processing epoch 22\n",
      " processing epoch 23\n",
      " processing epoch 24\n",
      " processing epoch 25\n",
      " processing epoch 26\n",
      " processing epoch 27\n",
      " processing epoch 28\n",
      " processing epoch 29\n",
      " processing epoch 30\n",
      " processing epoch 31\n",
      " processing epoch 32\n",
      " processing epoch 33\n",
      " processing epoch 34\n",
      " processing epoch 35\n",
      " processing epoch 36\n",
      " processing epoch 37\n",
      " processing epoch 38\n",
      " processing epoch 39\n",
      "RMSE: 0.5824\n",
      "RMSE: 1.4962\n",
      "0.01 0.582442578528 1.49624949361 time =  321.383865833\n",
      " processing epoch 0\n",
      " processing epoch 1\n",
      " processing epoch 2\n",
      " processing epoch 3\n",
      " processing epoch 4\n",
      " processing epoch 5\n",
      " processing epoch 6\n",
      " processing epoch 7\n",
      " processing epoch 8\n",
      " processing epoch 9\n",
      " processing epoch 10\n",
      " processing epoch 11\n",
      " processing epoch 12\n",
      " processing epoch 13\n",
      " processing epoch 14\n",
      " processing epoch 15\n",
      " processing epoch 16\n",
      " processing epoch 17\n",
      " processing epoch 18\n",
      " processing epoch 19\n",
      " processing epoch 20\n",
      " processing epoch 21\n",
      " processing epoch 22\n",
      " processing epoch 23\n",
      " processing epoch 24\n",
      " processing epoch 25\n",
      " processing epoch 26\n",
      " processing epoch 27\n",
      " processing epoch 28\n",
      " processing epoch 29\n",
      " processing epoch 30\n",
      " processing epoch 31\n",
      " processing epoch 32\n",
      " processing epoch 33\n",
      " processing epoch 34\n",
      " processing epoch 35\n",
      " processing epoch 36\n",
      " processing epoch 37\n",
      " processing epoch 38\n",
      " processing epoch 39\n",
      "RMSE: 0.7473\n",
      "RMSE: 1.4934\n",
      "0.1 0.747256238046 1.49344632693 time =  327.948145866\n",
      " processing epoch 0\n",
      " processing epoch 1\n",
      " processing epoch 2\n",
      " processing epoch 3\n",
      " processing epoch 4\n",
      " processing epoch 5\n",
      " processing epoch 6\n",
      " processing epoch 7\n",
      " processing epoch 8\n",
      " processing epoch 9\n",
      " processing epoch 10\n",
      " processing epoch 11\n",
      " processing epoch 12\n",
      " processing epoch 13\n",
      " processing epoch 14\n",
      " processing epoch 15\n",
      " processing epoch 16\n",
      " processing epoch 17\n",
      " processing epoch 18\n",
      " processing epoch 19\n",
      " processing epoch 20\n",
      " processing epoch 21\n",
      " processing epoch 22\n",
      " processing epoch 23\n",
      " processing epoch 24\n",
      " processing epoch 25\n",
      " processing epoch 26\n",
      " processing epoch 27\n",
      " processing epoch 28\n",
      " processing epoch 29\n",
      " processing epoch 30\n",
      " processing epoch 31\n",
      " processing epoch 32\n",
      " processing epoch 33\n",
      " processing epoch 34\n",
      " processing epoch 35\n",
      " processing epoch 36\n",
      " processing epoch 37\n",
      " processing epoch 38\n",
      " processing epoch 39\n",
      "RMSE: 1.8293\n",
      "RMSE: 1.8927\n",
      "1.0 1.82927830055 1.89273282832 time =  332.446322203\n",
      " processing epoch 0\n",
      " processing epoch 1\n",
      " processing epoch 2\n",
      " processing epoch 3\n",
      " processing epoch 4\n",
      " processing epoch 5\n",
      " processing epoch 6\n",
      " processing epoch 7\n",
      " processing epoch 8\n",
      " processing epoch 9\n",
      " processing epoch 10\n",
      " processing epoch 11\n",
      " processing epoch 12\n",
      " processing epoch 13\n",
      " processing epoch 14\n",
      " processing epoch 15\n",
      " processing epoch 16\n",
      " processing epoch 17\n",
      " processing epoch 18\n",
      " processing epoch 19\n",
      " processing epoch 20\n",
      " processing epoch 21\n",
      " processing epoch 22\n",
      " processing epoch 23\n",
      " processing epoch 24\n",
      " processing epoch 25\n",
      " processing epoch 26\n",
      " processing epoch 27\n",
      " processing epoch 28\n",
      " processing epoch 29\n",
      " processing epoch 30\n",
      " processing epoch 31\n",
      " processing epoch 32\n",
      " processing epoch 33\n",
      " processing epoch 34\n",
      " processing epoch 35\n",
      " processing epoch 36\n",
      " processing epoch 37\n",
      " processing epoch 38\n",
      " processing epoch 39\n",
      "RMSE: 2.0000\n",
      "RMSE: 2.0000\n",
      "10.0 1.99998645011 1.99999997118 time =  404.459553003\n"
     ]
    }
   ],
   "source": [
    "nfactors = 10\n",
    "reg_lambdas = 10**np.linspace(-6,1,8)\n",
    "rmse_train_lambda = np.zeros(len(reg_lambdas))\n",
    "rmse_test_lambda  = np.zeros(len(reg_lambdas))\n",
    "elapsed_time = np.zeros(len(reg_lambdas))\n",
    "for i in range(len(reg_lambdas)):\n",
    "    reg_lambda = reg_lambdas[i]\n",
    "    \n",
    "    t = time.time()\n",
    "    algo = SVDpp(biased=False, n_epochs = 40, n_factors = nfactors, reg_all=reg_lambda,verbose=True)\n",
    "    algo.fit(train1)\n",
    "    elapsed_time[i] = time.time() - t\n",
    "    \n",
    "    testpredictions  = algo.test(test1, clip=False)\n",
    "    trainpredictions = algo.test(trainest1, clip=False)\n",
    "    \n",
    "    rmse_train_lambda[i] = accuracy.rmse(trainpredictions)\n",
    "    rmse_test_lambda[i]  = accuracy.rmse(testpredictions)\n",
    "    \n",
    "    print(reg_lambda,rmse_train_lambda[i],rmse_test_lambda[i], 'time = ', elapsed_time[i])"
   ]
  },
  {
   "cell_type": "code",
   "execution_count": 70,
   "metadata": {},
   "outputs": [
    {
     "data": {
      "image/png": "[encoded data removed]",
      "text/plain": [
       "<matplotlib.figure.Figure at 0x13db77898>"
      ]
     },
     "metadata": {},
     "output_type": "display_data"
    }
   ],
   "source": [
    "fig, axes = plt.subplots(1,1,figsize=(9,6))\n",
    "\n",
    "# axes[0].plot(factors_to_try, rmse_train, '-*', label=\"train\")\n",
    "axes.semilogx(reg_lambdas, rmse_test_lambda, '-*', label=\"Validation\")\n",
    "axes.semilogx(reg_lambdas, rmse_train_lambda, '-*', label=\"train\")\n",
    "axes.set_title('Effect of regularization')\n",
    "axes.set_xlabel('lambda')\n",
    "axes.set_ylabel('rmse')\n",
    "axes.legend()\n",
    "fig.savefig('svdpp_rmse_lambda.eps')\n",
    "\n",
    "# axes[1].semilogx(reg_lambdas, rmse_test_lambda, '-*', label=\"test\")\n",
    "# axes[1].set_title('Effect of regularization')\n",
    "# axes[1].set_xlabel('lambda')\n",
    "# axes[1].set_ylabel('rmse')\n",
    "# axes[1].legend()"
   ]
  },
  {
   "cell_type": "code",
   "execution_count": 7,
   "metadata": {
    "collapsed": true
   },
   "outputs": [],
   "source": [
    "t = time.time()\n",
    "algo = SVDpp(biased=False, n_epochs = 20, n_factors = 10, reg_all=1e-6)\n",
    "algo.fit(train1)\n",
    "elapsed = time.time() - t"
   ]
  },
  {
   "cell_type": "code",
   "execution_count": 8,
   "metadata": {
    "collapsed": true
   },
   "outputs": [],
   "source": [
    "valid1dict = create_test_dict(test1)\n",
    "user_ids = list(valid1dict.keys())"
   ]
  },
  {
   "cell_type": "code",
   "execution_count": 9,
   "metadata": {
    "collapsed": true
   },
   "outputs": [],
   "source": [
    "def recommendation_for_userids(algo, k, trainset, testdic, userids):\n",
    "    user_est_true = defaultdict(list)\n",
    "    allq = algo.qi\n",
    "    numitem = len(trainset.all_items())\n",
    "    \n",
    "    for u in userids:\n",
    "        u_numid = trainset.to_inner_uid(u)\n",
    "        pu = algo.pu[u_numid]\n",
    "        \n",
    "        Iu = len(trainset.ur[u_numid])  # nb of items rated by u\n",
    "        u_impl_feedback = (sum(algo.yj[j] for (j, _) in trainset.ur[u_numid]) / np.sqrt(Iu))\n",
    "        user_est_true[u] = np.dot(allq, pu +  u_impl_feedback)\n",
    "        \n",
    "        # exclude those in train set    \n",
    "        #user_items = [j for (j, _) in trainset.ur[u_numid]]\n",
    "        #mask = np.ones(numitem, dtype=bool)\n",
    "        #mask[user_items] = False\n",
    "        #user_est_true[u] = (user_est_true[u])[mask]\n",
    "        \n",
    "        # sort to get largest k value\n",
    "        user_est_true[u] = (-user_est_true[u]).argsort()[:k]\n",
    "        user_est_true[u] = [trainset.to_raw_iid(j) for j in user_est_true[u]]\n",
    "    \n",
    "    return user_est_true"
   ]
  },
  {
   "cell_type": "code",
   "execution_count": 35,
   "metadata": {},
   "outputs": [
    {
     "name": "stdout",
     "output_type": "stream",
     "text": [
      "1219.8913111686707\n"
     ]
    }
   ],
   "source": [
    "t = time.time()\n",
    "user_reclist_dict = recommendation_for_userids(algo,50,train1,valid1dict,user_ids)\n",
    "elapsed = time.time()-t\n",
    "print(elapsed)"
   ]
  },
  {
   "cell_type": "code",
   "execution_count": 10,
   "metadata": {
    "collapsed": true
   },
   "outputs": [],
   "source": [
    "testdict = create_test_dict(testset)\n",
    "user_ids_test = list(testdict.keys())"
   ]
  },
  {
   "cell_type": "code",
   "execution_count": 13,
   "metadata": {},
   "outputs": [
    {
     "data": {
      "text/plain": [
       "[1820911, 2329350, 713984, 2358174, 2550443]"
      ]
     },
     "execution_count": 13,
     "metadata": {},
     "output_type": "execute_result"
    }
   ],
   "source": [
    "testdict[3019852]"
   ]
  },
  {
   "cell_type": "code",
   "execution_count": 23,
   "metadata": {},
   "outputs": [
    {
     "name": "stdout",
     "output_type": "stream",
     "text": [
      "1458.114243030548\n"
     ]
    }
   ],
   "source": [
    "t = time.time()\n",
    "user_reclist_dict_test = recommendation_for_userids(algo,50,train1,testdict,user_ids_test)\n",
    "elapsed = time.time()-t\n",
    "print(elapsed)"
   ]
  },
  {
   "cell_type": "code",
   "execution_count": 71,
   "metadata": {
    "collapsed": true
   },
   "outputs": [],
   "source": [
    "def precision_recall_at_k_nothreshold(user_reclist_dict, traindict, testdict, k):\n",
    "    '''Return precision and recall at k metrics'''\n",
    "    precisions = dict()\n",
    "    recalls = dict()\n",
    "\n",
    "    for uid in user_reclist_dict.keys():\n",
    "        \n",
    "        rec_in_train = [j for j in range(k) if user_reclist_dict[uid][j] in traindict[uid] ]\n",
    "        num_in_train = len(rec_in_train)\n",
    "        \n",
    "        n_rel   = len(testdict[uid])\n",
    "        n_rec_k = k - num_in_train\n",
    "        n_rel_and_rec_k = len([j for j in range(k) if user_reclist_dict[uid][j] in testdict[uid]])\n",
    "\n",
    "        # Precision@K: Proportion of recommended items that are relevant\n",
    "        precisions[uid] = n_rel_and_rec_k / n_rec_k if n_rec_k != 0 else 1\n",
    "\n",
    "        # Recall@K: Proportion of relevant items that are recommended\n",
    "        recalls[uid] = n_rel_and_rec_k / n_rel if n_rel != 0 else 1\n",
    "    \n",
    "    # return precisions, recalls, numzero_n_rec_k\n",
    "    return precisions, recalls"
   ]
  },
  {
   "cell_type": "code",
   "execution_count": 72,
   "metadata": {},
   "outputs": [
    {
     "name": "stdout",
     "output_type": "stream",
     "text": [
      "k =  1 0.000174109863324 0.000152346130408 0.000162502539102\n",
      "k =  2 0.000195873596239 0.000306143176344 0.000238897854373\n",
      "k =  3 0.000130582397493 0.000306143176344 0.000183075653628\n",
      "k =  4 0.000130582397493 0.000378688952729 0.000194199462938\n",
      "k =  5 0.000139287890659 0.000427736205894 0.000210144416224\n",
      "k =  6 0.000137836975131 0.000472714587252 0.000213438316505\n",
      "k =  7 0.000143018816302 0.000535829412707 0.000225775615433\n",
      "k =  8 0.000141464263951 0.000629102553774 0.000230987184166\n",
      "k =  9 0.00014509155277 0.000713981112144 0.000241173145044\n",
      "k =  10 0.000147993383825 0.000855445376094 0.000252332799853\n",
      "k =  11 0.000138496482189 0.00087720910901 0.000239223603365\n",
      "k =  12 0.000126955108674 0.00087720910901 0.000221808695834\n",
      "k =  13 0.000120537597686 0.000920736574841 0.000213168400333\n",
      "k =  14 0.000121255083386 0.000996909640045 0.000216212082172\n",
      "k =  15 0.000127680566437 0.00110935559344 0.000229004058483\n",
      "k =  16 0.000125141464264 0.00116739221455 0.000226050854216\n",
      "k =  17 0.00012546151916 0.00124356527975 0.000227927735668\n",
      "k =  18 0.0001257460124 0.00130522918968 0.00022939232718\n",
      "k =  19 0.000128291478239 0.0014213024319 0.000235340354424\n",
      "k =  20 0.000134935144076 0.00153302292753 0.000248038212854\n",
      "k =  21 0.000136800606897 0.00163821430329 0.000252514736222\n",
      "k =  22 0.000138496482189 0.00169189817781 0.000256034341631\n",
      "k =  23 0.000136259893036 0.00172454377719 0.000252564152119\n",
      "k =  24 0.000137836975131 0.00181056234061 0.000256171755246\n",
      "k =  25 0.000142770087925 0.0019592811822 0.000266146454779\n",
      "k =  26 0.0001406271973 0.00204633611386 0.000263169035308\n",
      "k =  27 0.000135418782585 0.00204633611386 0.000254027018113\n",
      "k =  28 0.000138355159248 0.00215781479024 0.000260037205869\n",
      "k =  29 0.000139588080079 0.00225575158836 0.000262907208946\n",
      "k =  30 0.000139287890659 0.00232829736475 0.000262851002252\n",
      "k =  31 0.000137602956498 0.00237472666163 0.000260132593396\n",
      "k =  32 0.000137383564029 0.0024617815933 0.000260243815746\n",
      "k =  33 0.000137177468073 0.00252707279204 0.000260228892487\n",
      "k =  34 0.000136983495409 0.00262863687898 0.000260397176112\n",
      "k =  35 0.000134313323135 0.00267216434481 0.000255770624662\n",
      "k =  36 0.000130582397493 0.00267216434481 0.000248996901057\n",
      "k =  37 0.000129405979497 0.00269175170444 0.000246940302458\n",
      "k =  38 0.000129436937866 0.00277155205846 0.000247323386636\n",
      "k =  39 0.000129466308625 0.00283321596839 0.000247617515932\n",
      "k =  40 0.000130582397493 0.0029178527075 0.000249977571412\n",
      "k =  41 0.000128459106477 0.00293236186278 0.000246135653501\n",
      "k =  42 0.000126436924557 0.00297588932861 0.000242567843499\n",
      "k =  43 0.000126533330904 0.00304118052736 0.000242957993824\n",
      "k =  44 0.000125636094557 0.00308470799319 0.000241438708451\n",
      "k =  45 0.000122844181345 0.00308470799319 0.000236278886511\n",
      "k =  46 0.000121119904921 0.0031064717261 0.000233149421066\n",
      "k =  47 0.000119469001962 0.00312098088138 0.000230128830541\n",
      "k =  48 0.000116980064421 0.00312098088138 0.00022550768874\n",
      "k =  49 0.000115481031796 0.00316450834721 0.000222830410003\n",
      "k =  50 0.000114912509794 0.00321425402245 0.000221892172264\n"
     ]
    }
   ],
   "source": [
    "klist = list(range(1,51))\n",
    "precision = np.zeros(len(klist))\n",
    "recall = np.zeros(len(klist))\n",
    "f1 = np.zeros(len(klist))\n",
    "\n",
    "for t,k in enumerate(klist):\n",
    "    precisions, recalls = precision_recall_at_k_nothreshold(user_reclist_dict, train1dic, valid1dict, k=k)\n",
    "    precision[t] = sum(prec for prec in precisions.values()) / len(precisions)\n",
    "    recall[t] = sum(rec for rec in recalls.values()) / len(recalls)\n",
    "    f1[t] = 2*(precision[t]*recall[t])/(precision[t]+recall[t])\n",
    "    print('k = ', k, precision[t], recall[t], f1[t])"
   ]
  },
  {
   "cell_type": "code",
   "execution_count": 73,
   "metadata": {},
   "outputs": [
    {
     "name": "stdout",
     "output_type": "stream",
     "text": [
      "k =  1 0.000130941469163 8.72943127755e-05 0.000104753175331\n",
      "k =  2 0.000152765047357 0.000232784834068 0.000184471000582\n",
      "k =  3 0.000160039573422 0.000282667298511 0.0002043697839\n",
      "k =  4 0.000218235781939 0.000490406978557 0.000302054452257\n",
      "k =  5 0.000192047488106 0.000523142345848 0.000280955261589\n",
      "k =  6 0.000181863151616 0.000610436658623 0.000280237185884\n",
      "k =  7 0.000199529857773 0.0008104861254 0.000320224994499\n",
      "k =  8 0.000196412203745 0.000892688269931 0.00032198107446\n",
      "k =  9 0.000193987361723 0.000986217890762 0.000324204296347\n",
      "k =  10 0.000183318056829 0.00105168862534 0.000312214529637\n",
      "k =  11 0.000178556548859 0.00109679068694 0.000307115041902\n",
      "k =  12 0.000167314099486 0.00114043784333 0.000291815786358\n",
      "k =  13 0.000164516204846 0.00122773215611 0.000290152016774\n",
      "k =  14 0.00016211800944 0.00132593825798 0.000288911751163\n",
      "k =  15 0.000157129762996 0.00135503636224 0.000281604697918\n",
      "k =  16 0.000152765047357 0.00142050709682 0.000275863059954\n",
      "k =  17 0.000148913827676 0.0014750660423 0.000270517799506\n",
      "k =  18 0.000145490521293 0.00148994575471 0.000265094993588\n",
      "k =  19 0.000144724781707 0.00158815185658 0.000265275583596\n",
      "k =  20 0.00014403561608 0.00169726974755 0.000265536937621\n",
      "k =  21 0.000151725829348 0.00180202292288 0.000279885959918\n",
      "k =  22 0.000146813162395 0.00182384650108 0.00027175130999\n",
      "k =  23 0.000142327683873 0.00184567007927 0.000264275898541\n",
      "k =  24 0.000145490521293 0.00201298417876 0.000271367663021\n",
      "k =  25 0.000143162672952 0.0020293518624 0.000267457300979\n",
      "k =  26 0.000144371363436 0.00212392070124 0.000270364943072\n",
      "k =  27 0.000140640837249 0.00216756785763 0.000264142977165\n",
      "k =  28 0.000140294431246 0.00224395038131 0.000264078370504\n",
      "k =  29 0.000136961766596 0.00225849943344 0.000258261809672\n",
      "k =  30 0.000141125805654 0.0024005258947 0.000266579524516\n",
      "k =  31 0.000137981333097 0.00244417305109 0.00026121618287\n",
      "k =  32 0.000133669416438 0.00244417305109 0.000253476455235\n",
      "k =  33 0.000132264110266 0.00246599662928 0.000251062447372\n",
      "k =  34 0.000128373989376 0.00246599662928 0.000244043640343\n",
      "k =  35 0.000130941469163 0.00257293216243 0.000249200638277\n",
      "k =  36 0.000127304206131 0.00257293216243 0.000242604751333\n",
      "k =  37 0.000125043204787 0.00259475574062 0.000238588645674\n",
      "k =  38 0.000122901203513 0.00263840289701 0.000234862137302\n",
      "k =  39 0.000121988206315 0.00266386373824 0.000233293057752\n",
      "k =  40 0.000123303216795 0.00271478542069 0.000235892403683\n",
      "k =  41 0.000122424950844 0.00273297173585 0.000234351977768\n",
      "k =  42 0.000120549289071 0.00277661889224 0.000231066622669\n",
      "k =  43 0.000119775917529 0.00284208962682 0.000229864514547\n",
      "k =  44 0.00012201364172 0.00292834472159 0.000234266247528\n",
      "k =  45 0.000122212037886 0.00303746261256 0.000234970075688\n",
      "k =  46 0.000119555254453 0.00303746261256 0.000230055470596\n",
      "k =  47 0.000118868851439 0.00309565882107 0.000228946486698\n",
      "k =  48 0.000116392417034 0.00309565882107 0.000224349604529\n",
      "k =  49 0.000115798578172 0.00312371770732 0.000223318568107\n",
      "k =  50 0.000116101435991 0.00322556107223 0.000224135304773\n"
     ]
    }
   ],
   "source": [
    "klist = list(range(1,51))\n",
    "precision_test = np.zeros(len(klist))\n",
    "recall_test = np.zeros(len(klist))\n",
    "f1_test = np.zeros(len(klist))\n",
    "\n",
    "for t,k in enumerate(klist):\n",
    "    precisions_test, recalls_test = precision_recall_at_k_nothreshold(user_reclist_dict_test, train1dic, testdict, k=k)\n",
    "    precision_test[t] = sum(prec for prec in precisions_test.values()) / len(precisions_test)\n",
    "    recall_test[t] = sum(rec for rec in recalls_test.values()) / len(recalls_test)\n",
    "    f1_test[t] = 2*(precision_test[t]*recall_test[t])/(precision_test[t]+recall_test[t])\n",
    "    print('k = ', k, precision_test[t], recall_test[t], f1_test[t])"
   ]
  },
  {
   "cell_type": "code",
   "execution_count": 74,
   "metadata": {},
   "outputs": [
    {
     "data": {
      "image/png": "[encoded data removed]",
      "text/plain": [
       "<matplotlib.figure.Figure at 0x121d24198>"
      ]
     },
     "metadata": {},
     "output_type": "display_data"
    }
   ],
   "source": [
    "fig, axes = plt.subplots(1,1,figsize=(9,6))\n",
    "# axes.step(recall,precision,'-o',where='post')\n",
    "# axes.fill_between(recall,precision,step='post',alpha=0.2,color='b')\n",
    "\n",
    "axes.plot(precision, recall,'-',label=\"validation\")\n",
    "axes.plot(precision_test, recall_test,'-', label=\"test\")\n",
    "axes.set_title('PR curve, lambda = 0.1, n_factor = 10')\n",
    "axes.legend()\n",
    "fig.savefig('svdpp_pr_k.eps')"
   ]
  },
  {
   "cell_type": "code",
   "execution_count": 75,
   "metadata": {},
   "outputs": [
    {
     "data": {
      "image/png": "[encoded data removed]",
      "text/plain": [
       "<matplotlib.figure.Figure at 0x13c6763c8>"
      ]
     },
     "metadata": {},
     "output_type": "display_data"
    }
   ],
   "source": [
    "fig, axes = plt.subplots(1,1,figsize=(9,6))\n",
    "\n",
    "axes.plot(klist, f1,'-', label=\"validation\")\n",
    "axes.plot(klist, f1_test,'-', label=\"test\")\n",
    "axes.set_title('F1 score, lambda = 0.1, n_factor = 10')\n",
    "axes.legend()\n",
    "fig.savefig('svdpp_f1_k.eps')"
   ]
  },
  {
   "cell_type": "markdown",
   "metadata": {},
   "source": [
    "## Aggregate Diversity"
   ]
  },
  {
   "cell_type": "code",
   "execution_count": 63,
   "metadata": {
    "collapsed": true
   },
   "outputs": [],
   "source": [
    "k = 50\n",
    "user_reclist_first_k = dict()\n",
    "\n",
    "for u in user_reclist_dict_test.keys():\n",
    "   user_reclist_first_k[u] = user_reclist_dict_test[u][:k]"
   ]
  },
  {
   "cell_type": "code",
   "execution_count": 64,
   "metadata": {},
   "outputs": [
    {
     "name": "stdout",
     "output_type": "stream",
     "text": [
      "[2301493, 2036371, 2485289, 2589291, 1357033, 2338629, 1728491, 2150286, 668599, 1921893, 2439631, 1545833, 1549998, 2086434, 1371185, 831593, 2722466, 2648952, 2198938, 672435, 2542787, 2458704, 413471, 1592379, 1481739, 2133170, 1744088, 2375820, 1717525, 2211342, 2500321, 2323339, 2722840, 1587499, 2829406, 2230111, 2497387, 311402, 2818137, 2307280, 1567101, 1747269, 1731877, 1719050, 882311, 2379412, 1110122, 1705355, 2540376, 2339865]\n",
      "[2301493, 2036371, 2485289, 2589291, 1357033, 2338629, 1728491, 2150286, 668599, 1921893, 2439631, 1545833, 1549998, 2086434, 1371185, 831593, 2722466, 2648952, 2198938, 672435, 2542787, 2458704, 413471, 1592379, 1481739, 2133170, 1744088, 2375820, 1717525, 2211342, 2500321, 2323339, 2722840, 1587499, 2829406, 2230111, 2497387, 311402, 2818137, 2307280, 1567101, 1747269, 1731877, 1719050, 882311, 2379412, 1110122, 1705355, 2540376, 2339865]\n"
     ]
    }
   ],
   "source": [
    "print(user_reclist_dict_test[user_ids[0]])\n",
    "print(user_reclist_first_k[user_ids[0]])"
   ]
  },
  {
   "cell_type": "code",
   "execution_count": 65,
   "metadata": {},
   "outputs": [
    {
     "name": "stdout",
     "output_type": "stream",
     "text": [
      "79786\n"
     ]
    }
   ],
   "source": [
    "dict_for_aggregate = utils.invert_dict(user_reclist_first_k)\n",
    "aggregate_diversity = len(dict_for_aggregate.keys())\n",
    "print(aggregate_diversity)"
   ]
  },
  {
   "cell_type": "markdown",
   "metadata": {},
   "source": [
    "## Dicovery Ratio"
   ]
  },
  {
   "cell_type": "code",
   "execution_count": 66,
   "metadata": {},
   "outputs": [
    {
     "name": "stdout",
     "output_type": "stream",
     "text": [
      "0.9998690585308367\n",
      "0.9998060126382771\n",
      "0.9998428702370039\n"
     ]
    }
   ],
   "source": [
    "klist = [1,9,15]\n",
    "for t,k in enumerate(klist):\n",
    "    user_reclist_first_k = dict()\n",
    "    for u in user_reclist_dict_test.keys():\n",
    "       user_reclist_first_k[u] = user_reclist_dict_test[u][:k]\n",
    "    discov = dict()\n",
    "    for u in user_reclist_first_k.keys():\n",
    "        discov[u] = (k - len([j for j in range(k) if user_reclist_dict_test[u][j] in testdict[u]]))/k\n",
    "    discov[t] = sum(dis for dis in discov.values()) / len(discov)\n",
    "    print(discov[t])"
   ]
  },
  {
   "cell_type": "code",
   "execution_count": 19,
   "metadata": {
    "collapsed": true
   },
   "outputs": [],
   "source": [
    "import math"
   ]
  },
  {
   "cell_type": "code",
   "execution_count": 20,
   "metadata": {
    "collapsed": true
   },
   "outputs": [],
   "source": [
    "def ndcg(recs, gt):\n",
    "    '''\n",
    "    input: 1. recs = recommendation list for one user.\n",
    "                recs = \n",
    "           2. gt = ratings of a user in the test set.\n",
    "                gt = a dictionary of lists with (key = each user) and (value = a list of items for this user)\n",
    "           \n",
    "    output: ndcg for a MODEL (not for each user) with a specific setting.\n",
    "    '''\n",
    "    Q, S = 0.0, 0.0\n",
    "    for u, vs in gt.items():\n",
    "        rec = recs.get(u, [])\n",
    "        if not rec:\n",
    "            continue\n",
    "\n",
    "        idcg = sum([1.0 / math.log(i + 2, 2) for i in range(len(vs))])\n",
    "        dcg = 0.0\n",
    "        for i, r in enumerate(rec):\n",
    "            if r not in vs:\n",
    "                continue\n",
    "            rank = i + 1\n",
    "            dcg += 1.0 / math.log(rank + 1, 2)\n",
    "        ndcg = dcg / idcg\n",
    "        S += ndcg\n",
    "        Q += 1\n",
    "    return S / Q"
   ]
  },
  {
   "cell_type": "code",
   "execution_count": 25,
   "metadata": {
    "collapsed": true
   },
   "outputs": [],
   "source": [
    "k = 1\n",
    "user_reclist_first_k = dict()\n",
    "for u in user_reclist_dict_test.keys():\n",
    "    user_reclist_first_k[u] = user_reclist_dict_test[u][:k]"
   ]
  },
  {
   "cell_type": "code",
   "execution_count": 28,
   "metadata": {},
   "outputs": [
    {
     "data": {
      "text/plain": [
       "0.00025382975063556777"
      ]
     },
     "execution_count": 28,
     "metadata": {},
     "output_type": "execute_result"
    }
   ],
   "source": [
    "ndcg(user_reclist_first_k,testdict)"
   ]
  },
  {
   "cell_type": "code",
   "execution_count": null,
   "metadata": {
    "collapsed": true
   },
   "outputs": [],
   "source": []
  }
 ],
 "metadata": {
  "kernelspec": {
   "display_name": "Python 3",
   "language": "python",
   "name": "python3"
  },
  "language_info": {
   "codemirror_mode": {
    "name": "ipython",
    "version": 3
   },
   "file_extension": ".py",
   "mimetype": "text/x-python",
   "name": "python",
   "nbconvert_exporter": "python",
   "pygments_lexer": "ipython3",
   "version": "3.6.3"
  }
 },
 "nbformat": 4,
 "nbformat_minor": 2
}
